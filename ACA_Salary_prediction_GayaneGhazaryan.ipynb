{
  "cells": [
    {
      "cell_type": "markdown",
      "metadata": {
        "id": "8D_6Q8-x2tZL"
      },
      "source": [
        "# Large scale text analysis with deep learning\n",
        "\n",
        "Today we're gonna apply the newly learned tools for the task of predicting job salary.\n",
        "\n",
        "<img src=\"https://storage.googleapis.com/kaggle-competitions/kaggle/3342/media/salary%20prediction%20engine%20v2.png\" width=400px>\n",
        "\n",
        "_Special thanks to [Oleg Vasilev](https://github.com/Omrigan/) for the core assignment idea._"
      ]
    },
    {
      "cell_type": "code",
      "execution_count": 1,
      "metadata": {
        "id": "KriCJJwD2tZR"
      },
      "outputs": [],
      "source": [
        "import numpy as np\n",
        "import pandas as pd\n",
        "import matplotlib.pyplot as plt\n",
        "%matplotlib inline"
      ]
    },
    {
      "cell_type": "markdown",
      "metadata": {
        "id": "jI54ffcX2tZT"
      },
      "source": [
        "### About the challenge\n",
        "For starters, let's download and unpack the data from [here](https://www.dropbox.com/s/5msc5ix7ndyba10/Train_rev1.csv.tar.gz?dl=0).\n",
        "\n",
        "You can also get it from [yadisk url](https://yadi.sk/d/vVEOWPFY3NruT7) the competition [page](https://www.kaggle.com/c/job-salary-prediction/data) (pick `Train_rev1.*`)."
      ]
    },
    {
      "cell_type": "code",
      "execution_count": 2,
      "metadata": {
        "colab": {
          "base_uri": "https://localhost:8080/"
        },
        "id": "KMf1U2_s2tZU",
        "outputId": "c02f2d35-63c2-42ab-f986-754664c08029"
      },
      "outputs": [
        {
          "output_type": "stream",
          "name": "stdout",
          "text": [
            "  % Total    % Received % Xferd  Average Speed   Time    Time     Time  Current\n",
            "                                 Dload  Upload   Total   Spent    Left  Speed\n",
            "100    17    0    17    0     0     38      0 --:--:-- --:--:-- --:--:--    38\n",
            "100   299  100   299    0     0    373      0 --:--:-- --:--:-- --:--:--   373\n",
            "100  119M  100  119M    0     0  21.3M      0  0:00:05  0:00:05 --:--:-- 29.1M\n",
            "Train_rev1.csv\n"
          ]
        }
      ],
      "source": [
        "!curl -L https://www.dropbox.com/s/5msc5ix7ndyba10/Train_rev1.csv.tar.gz?dl=1 -o Train_rev1.csv.tar.gz\n",
        "!tar -xvzf ./Train_rev1.csv.tar.gz"
      ]
    },
    {
      "cell_type": "code",
      "execution_count": 3,
      "metadata": {
        "colab": {
          "base_uri": "https://localhost:8080/"
        },
        "id": "eO0m9iVd2tZW",
        "outputId": "cc526aa9-52a1-4d27-9d15-7a4976721209"
      },
      "outputs": [
        {
          "output_type": "execute_result",
          "data": {
            "text/plain": [
              "(244768, 12)"
            ]
          },
          "metadata": {},
          "execution_count": 3
        }
      ],
      "source": [
        "data = pd.read_csv(\"./Train_rev1.csv\", index_col=None)\n",
        "data.shape"
      ]
    },
    {
      "cell_type": "markdown",
      "metadata": {
        "id": "qlN97lET2tZX"
      },
      "source": [
        "One problem with salary prediction is that it's oddly distributed: there are many people who are paid standard salaries and a few that get tons o money. The distribution is fat-tailed on the right side, which is inconvenient for MSE minimization.\n",
        "\n",
        "There are several techniques to combat this: using a different loss function, predicting log-target instead of raw target or even replacing targets with their percentiles among all salaries in the training set. We gonna use logarithm for now.\n",
        "\n",
        "_You can read more [in the official description](https://www.kaggle.com/c/job-salary-prediction#description)._"
      ]
    },
    {
      "cell_type": "code",
      "execution_count": 4,
      "metadata": {
        "colab": {
          "base_uri": "https://localhost:8080/",
          "height": 368
        },
        "id": "5s_h8Xj92tZX",
        "outputId": "00b0ddfd-8b0c-4a89-f6df-217233f4bdf0"
      },
      "outputs": [
        {
          "output_type": "display_data",
          "data": {
            "text/plain": [
              "<Figure size 800x400 with 2 Axes>"
            ],
            "image/png": "[encoded data removed]"
          },
          "metadata": {}
        }
      ],
      "source": [
        "data['Log1pSalary'] = np.log1p(data['SalaryNormalized']).astype('float32')\n",
        "\n",
        "plt.figure(figsize=[8, 4])\n",
        "plt.subplot(1, 2, 1)\n",
        "plt.hist(data[\"SalaryNormalized\"], bins=20);\n",
        "\n",
        "plt.subplot(1, 2, 2)\n",
        "plt.hist(data['Log1pSalary'], bins=20);"
      ]
    },
    {
      "cell_type": "markdown",
      "metadata": {
        "id": "drR5eZfH2tZY"
      },
      "source": [
        "Our task is to predict one number, __Log1pSalary__.\n",
        "\n",
        "To do so, our model can access a number of features:\n",
        "* Free text: __`Title`__ and  __`FullDescription`__\n",
        "* Categorical: __`Category`__, __`Company`__, __`LocationNormalized`__, __`ContractType`__, and __`ContractTime`__."
      ]
    },
    {
      "cell_type": "code",
      "execution_count": 5,
      "metadata": {
        "colab": {
          "base_uri": "https://localhost:8080/"
        },
        "id": "9zcWW4Hd2tZY",
        "outputId": "311403bf-09f0-4b74-ecc9-b9144576fa94"
      },
      "outputs": [
        {
          "output_type": "execute_result",
          "data": {
            "text/plain": [
              "Id                         0\n",
              "Title                      1\n",
              "FullDescription            0\n",
              "LocationRaw                0\n",
              "LocationNormalized         0\n",
              "ContractType          179326\n",
              "ContractTime           63905\n",
              "Company                32430\n",
              "Category                   0\n",
              "SalaryRaw                  0\n",
              "SalaryNormalized           0\n",
              "SourceName                 1\n",
              "Log1pSalary                0\n",
              "dtype: int64"
            ]
          },
          "metadata": {},
          "execution_count": 5
        }
      ],
      "source": [
        "data.isna().sum(axis = 0)"
      ]
    },
    {
      "cell_type": "code",
      "execution_count": 6,
      "metadata": {
        "colab": {
          "base_uri": "https://localhost:8080/",
          "height": 240
        },
        "id": "nwdOYLmr2tZZ",
        "outputId": "79ebf49a-c89f-4eb0-b171-d68d4b84c149"
      },
      "outputs": [
        {
          "output_type": "execute_result",
          "data": {
            "text/plain": [
              "              Id                            Title  \\\n",
              "50913   68634402  Architectural Technician  Dubai   \n",
              "145474  70682136               Activity Assistant   \n",
              "243127  72690148             Maintenance Engineer   \n",
              "\n",
              "                                          FullDescription  \\\n",
              "50913   Our Client is a highly design focussed Archite...   \n",
              "145474  We believe that people should be looked after ...   \n",
              "243127  Global Automotive Manufacturer require a Maint...   \n",
              "\n",
              "                      LocationRaw LocationNormalized ContractType  \\\n",
              "50913   Staffordshire - Newcastle                 UK    full_time   \n",
              "145474  Birmingham, West Midlands         Birmingham    part_time   \n",
              "243127               Warwickshire       Warwickshire          NaN   \n",
              "\n",
              "       ContractTime                                 Company  \\\n",
              "50913     permanent                               CVbrowser   \n",
              "145474          NaN                                     NaN   \n",
              "243127    permanent  Michael Page   Engineering Manufacture   \n",
              "\n",
              "                          Category                 SalaryRaw  \\\n",
              "50913           Other/General Jobs             35000 - 45000   \n",
              "145474   Healthcare & Nursing Jobs     6.55 to 6.55 per hour   \n",
              "243127  Logistics & Warehouse Jobs  Circa 30K-35K+Shift All.   \n",
              "\n",
              "        SalaryNormalized      SourceName  Log1pSalary  \n",
              "50913              40000   cvbrowser.com    10.596660  \n",
              "145474             12576  careworx.co.uk     9.439625  \n",
              "243127             32500   jobsite.co.uk    10.389026  "
            ],
            "text/html": [
              "\n",
              "\n",
              "  <div id=\"df-4ebc257e-0047-471d-bf78-2fa86929e920\">\n",
              "    <div class=\"colab-df-container\">\n",
              "      <div>\n",
              "<style scoped>\n",
              "    .dataframe tbody tr th:only-of-type {\n",
              "        vertical-align: middle;\n",
              "    }\n",
              "\n",
              "    .dataframe tbody tr th {\n",
              "        vertical-align: top;\n",
              "    }\n",
              "\n",
              "    .dataframe thead th {\n",
              "        text-align: right;\n",
              "    }\n",
              "</style>\n",
              "<table border=\"1\" class=\"dataframe\">\n",
              "  <thead>\n",
              "    <tr style=\"text-align: right;\">\n",
              "      <th></th>\n",
              "      <th>Id</th>\n",
              "      <th>Title</th>\n",
              "      <th>FullDescription</th>\n",
              "      <th>LocationRaw</th>\n",
              "      <th>LocationNormalized</th>\n",
              "      <th>ContractType</th>\n",
              "      <th>ContractTime</th>\n",
              "      <th>Company</th>\n",
              "      <th>Category</th>\n",
              "      <th>SalaryRaw</th>\n",
              "      <th>SalaryNormalized</th>\n",
              "      <th>SourceName</th>\n",
              "      <th>Log1pSalary</th>\n",
              "    </tr>\n",
              "  </thead>\n",
              "  <tbody>\n",
              "    <tr>\n",
              "      <th>50913</th>\n",
              "      <td>68634402</td>\n",
              "      <td>Architectural Technician  Dubai</td>\n",
              "      <td>Our Client is a highly design focussed Archite...</td>\n",
              "      <td>Staffordshire - Newcastle</td>\n",
              "      <td>UK</td>\n",
              "      <td>full_time</td>\n",
              "      <td>permanent</td>\n",
              "      <td>CVbrowser</td>\n",
              "      <td>Other/General Jobs</td>\n",
              "      <td>35000 - 45000</td>\n",
              "      <td>40000</td>\n",
              "      <td>cvbrowser.com</td>\n",
              "      <td>10.596660</td>\n",
              "    </tr>\n",
              "    <tr>\n",
              "      <th>145474</th>\n",
              "      <td>70682136</td>\n",
              "      <td>Activity Assistant</td>\n",
              "      <td>We believe that people should be looked after ...</td>\n",
              "      <td>Birmingham, West Midlands</td>\n",
              "      <td>Birmingham</td>\n",
              "      <td>part_time</td>\n",
              "      <td>NaN</td>\n",
              "      <td>NaN</td>\n",
              "      <td>Healthcare &amp; Nursing Jobs</td>\n",
              "      <td>6.55 to 6.55 per hour</td>\n",
              "      <td>12576</td>\n",
              "      <td>careworx.co.uk</td>\n",
              "      <td>9.439625</td>\n",
              "    </tr>\n",
              "    <tr>\n",
              "      <th>243127</th>\n",
              "      <td>72690148</td>\n",
              "      <td>Maintenance Engineer</td>\n",
              "      <td>Global Automotive Manufacturer require a Maint...</td>\n",
              "      <td>Warwickshire</td>\n",
              "      <td>Warwickshire</td>\n",
              "      <td>NaN</td>\n",
              "      <td>permanent</td>\n",
              "      <td>Michael Page   Engineering Manufacture</td>\n",
              "      <td>Logistics &amp; Warehouse Jobs</td>\n",
              "      <td>Circa 30K-35K+Shift All.</td>\n",
              "      <td>32500</td>\n",
              "      <td>jobsite.co.uk</td>\n",
              "      <td>10.389026</td>\n",
              "    </tr>\n",
              "  </tbody>\n",
              "</table>\n",
              "</div>\n",
              "      <button class=\"colab-df-convert\" onclick=\"convertToInteractive('df-4ebc257e-0047-471d-bf78-2fa86929e920')\"\n",
              "              title=\"Convert this dataframe to an interactive table.\"\n",
              "              style=\"display:none;\">\n",
              "\n",
              "  <svg xmlns=\"http://www.w3.org/2000/svg\" height=\"24px\"viewBox=\"0 0 24 24\"\n",
              "       width=\"24px\">\n",
              "    <path d=\"M0 0h24v24H0V0z\" fill=\"none\"/>\n",
              "    <path d=\"M18.56 5.44l.94 2.06.94-2.06 2.06-.94-2.06-.94-.94-2.06-.94 2.06-2.06.94zm-11 1L8.5 8.5l.94-2.06 2.06-.94-2.06-.94L8.5 2.5l-.94 2.06-2.06.94zm10 10l.94 2.06.94-2.06 2.06-.94-2.06-.94-.94-2.06-.94 2.06-2.06.94z\"/><path d=\"M17.41 7.96l-1.37-1.37c-.4-.4-.92-.59-1.43-.59-.52 0-1.04.2-1.43.59L10.3 9.45l-7.72 7.72c-.78.78-.78 2.05 0 2.83L4 21.41c.39.39.9.59 1.41.59.51 0 1.02-.2 1.41-.59l7.78-7.78 2.81-2.81c.8-.78.8-2.07 0-2.86zM5.41 20L4 18.59l7.72-7.72 1.47 1.35L5.41 20z\"/>\n",
              "  </svg>\n",
              "      </button>\n",
              "\n",
              "\n",
              "\n",
              "    <div id=\"df-53848a37-322d-4651-aa32-69d6800e6f94\">\n",
              "      <button class=\"colab-df-quickchart\" onclick=\"quickchart('df-53848a37-322d-4651-aa32-69d6800e6f94')\"\n",
              "              title=\"Suggest charts.\"\n",
              "              style=\"display:none;\">\n",
              "\n",
              "<svg xmlns=\"http://www.w3.org/2000/svg\" height=\"24px\"viewBox=\"0 0 24 24\"\n",
              "     width=\"24px\">\n",
              "    <g>\n",
              "        <path d=\"M19 3H5c-1.1 0-2 .9-2 2v14c0 1.1.9 2 2 2h14c1.1 0 2-.9 2-2V5c0-1.1-.9-2-2-2zM9 17H7v-7h2v7zm4 0h-2V7h2v10zm4 0h-2v-4h2v4z\"/>\n",
              "    </g>\n",
              "</svg>\n",
              "      </button>\n",
              "    </div>\n",
              "\n",
              "<style>\n",
              "  .colab-df-quickchart {\n",
              "    background-color: #E8F0FE;\n",
              "    border: none;\n",
              "    border-radius: 50%;\n",
              "    cursor: pointer;\n",
              "    display: none;\n",
              "    fill: #1967D2;\n",
              "    height: 32px;\n",
              "    padding: 0 0 0 0;\n",
              "    width: 32px;\n",
              "  }\n",
              "\n",
              "  .colab-df-quickchart:hover {\n",
              "    background-color: #E2EBFA;\n",
              "    box-shadow: 0px 1px 2px rgba(60, 64, 67, 0.3), 0px 1px 3px 1px rgba(60, 64, 67, 0.15);\n",
              "    fill: #174EA6;\n",
              "  }\n",
              "\n",
              "  [theme=dark] .colab-df-quickchart {\n",
              "    background-color: #3B4455;\n",
              "    fill: #D2E3FC;\n",
              "  }\n",
              "\n",
              "  [theme=dark] .colab-df-quickchart:hover {\n",
              "    background-color: #434B5C;\n",
              "    box-shadow: 0px 1px 3px 1px rgba(0, 0, 0, 0.15);\n",
              "    filter: drop-shadow(0px 1px 2px rgba(0, 0, 0, 0.3));\n",
              "    fill: #FFFFFF;\n",
              "  }\n",
              "</style>\n",
              "\n",
              "    <script>\n",
              "      async function quickchart(key) {\n",
              "        const containerElement = document.querySelector('#' + key);\n",
              "        const charts = await google.colab.kernel.invokeFunction(\n",
              "            'suggestCharts', [key], {});\n",
              "      }\n",
              "    </script>\n",
              "\n",
              "      <script>\n",
              "\n",
              "function displayQuickchartButton(domScope) {\n",
              "  let quickchartButtonEl =\n",
              "    domScope.querySelector('#df-53848a37-322d-4651-aa32-69d6800e6f94 button.colab-df-quickchart');\n",
              "  quickchartButtonEl.style.display =\n",
              "    google.colab.kernel.accessAllowed ? 'block' : 'none';\n",
              "}\n",
              "\n",
              "        displayQuickchartButton(document);\n",
              "      </script>\n",
              "      <style>\n",
              "    .colab-df-container {\n",
              "      display:flex;\n",
              "      flex-wrap:wrap;\n",
              "      gap: 12px;\n",
              "    }\n",
              "\n",
              "    .colab-df-convert {\n",
              "      background-color: #E8F0FE;\n",
              "      border: none;\n",
              "      border-radius: 50%;\n",
              "      cursor: pointer;\n",
              "      display: none;\n",
              "      fill: #1967D2;\n",
              "      height: 32px;\n",
              "      padding: 0 0 0 0;\n",
              "      width: 32px;\n",
              "    }\n",
              "\n",
              "    .colab-df-convert:hover {\n",
              "      background-color: #E2EBFA;\n",
              "      box-shadow: 0px 1px 2px rgba(60, 64, 67, 0.3), 0px 1px 3px 1px rgba(60, 64, 67, 0.15);\n",
              "      fill: #174EA6;\n",
              "    }\n",
              "\n",
              "    [theme=dark] .colab-df-convert {\n",
              "      background-color: #3B4455;\n",
              "      fill: #D2E3FC;\n",
              "    }\n",
              "\n",
              "    [theme=dark] .colab-df-convert:hover {\n",
              "      background-color: #434B5C;\n",
              "      box-shadow: 0px 1px 3px 1px rgba(0, 0, 0, 0.15);\n",
              "      filter: drop-shadow(0px 1px 2px rgba(0, 0, 0, 0.3));\n",
              "      fill: #FFFFFF;\n",
              "    }\n",
              "  </style>\n",
              "\n",
              "      <script>\n",
              "        const buttonEl =\n",
              "          document.querySelector('#df-4ebc257e-0047-471d-bf78-2fa86929e920 button.colab-df-convert');\n",
              "        buttonEl.style.display =\n",
              "          google.colab.kernel.accessAllowed ? 'block' : 'none';\n",
              "\n",
              "        async function convertToInteractive(key) {\n",
              "          const element = document.querySelector('#df-4ebc257e-0047-471d-bf78-2fa86929e920');\n",
              "          const dataTable =\n",
              "            await google.colab.kernel.invokeFunction('convertToInteractive',\n",
              "                                                     [key], {});\n",
              "          if (!dataTable) return;\n",
              "\n",
              "          const docLinkHtml = 'Like what you see? Visit the ' +\n",
              "            '<a target=\"_blank\" href=https://colab.research.google.com/notebooks/data_table.ipynb>data table notebook</a>'\n",
              "            + ' to learn more about interactive tables.';\n",
              "          element.innerHTML = '';\n",
              "          dataTable['output_type'] = 'display_data';\n",
              "          await google.colab.output.renderOutput(dataTable, element);\n",
              "          const docLink = document.createElement('div');\n",
              "          docLink.innerHTML = docLinkHtml;\n",
              "          element.appendChild(docLink);\n",
              "        }\n",
              "      </script>\n",
              "    </div>\n",
              "  </div>\n"
            ]
          },
          "metadata": {},
          "execution_count": 6
        }
      ],
      "source": [
        "text_columns = [\"Title\", \"FullDescription\"]\n",
        "categorical_columns = [\"Category\", \"Company\", \"LocationNormalized\", \"ContractType\", \"ContractTime\", 'SourceName']\n",
        "target_column = \"Log1pSalary\"\n",
        "\n",
        "data[categorical_columns] = data[categorical_columns].fillna('NaN') # cast missing values to string \"NaN\"\n",
        "data.dropna(subset=['Title'], inplace=True)\n",
        "\n",
        "data.sample(3)"
      ]
    },
    {
      "cell_type": "markdown",
      "metadata": {
        "id": "hoCg1K9Y2tZa"
      },
      "source": [
        "### Preprocessing text data\n",
        "\n",
        "Just like last week, applying NLP to a problem begins from tokenization: splitting raw text into sequences of tokens (words, punctuation, etc).\n",
        "\n",
        "__Your task__ is to lowercase and tokenize all texts under `Title` and `FullDescription` columns. Store the tokenized data as a __space-separated__ string of tokens for performance reasons.\n",
        "\n",
        "It's okay to use nltk tokenizers. Assertions were designed for WordPunctTokenizer, slight deviations are okay."
      ]
    },
    {
      "cell_type": "code",
      "execution_count": 7,
      "metadata": {
        "colab": {
          "base_uri": "https://localhost:8080/"
        },
        "id": "LNBwUDHW2tZa",
        "outputId": "cdcea9db-8f40-43c4-f0b6-07d86a60d2df"
      },
      "outputs": [
        {
          "output_type": "stream",
          "name": "stdout",
          "text": [
            "Raw text:\n",
            "2         Mathematical Modeller / Simulation Analyst / O...\n",
            "100003    Strategy Education have been approached by a s...\n",
            "200003    Working within the financial sector, in the cl...\n",
            "Name: FullDescription, dtype: object\n"
          ]
        }
      ],
      "source": [
        "print(\"Raw text:\")\n",
        "print(data[\"FullDescription\"][2::100000])"
      ]
    },
    {
      "cell_type": "code",
      "execution_count": 8,
      "metadata": {
        "id": "IunHnj4K2tZb"
      },
      "outputs": [],
      "source": [
        "import nltk\n",
        "\n",
        "def preprocess_text(text):\n",
        "\n",
        "  if isinstance(text, float):\n",
        "    return None\n",
        "\n",
        "  text = text.lower()\n",
        "  tokenizer = nltk.tokenize.WordPunctTokenizer()\n",
        "  tokens = tokenizer.tokenize(text)\n",
        "  return \" \".join(tokens)"
      ]
    },
    {
      "cell_type": "code",
      "execution_count": 9,
      "metadata": {
        "id": "2jUROM1D2tZb"
      },
      "outputs": [],
      "source": [
        "data['Title'] = data[\"Title\"].apply(preprocess_text)\n",
        "data['FullDescription'] = data[\"FullDescription\"].apply(preprocess_text)"
      ]
    },
    {
      "cell_type": "code",
      "execution_count": 10,
      "metadata": {
        "colab": {
          "base_uri": "https://localhost:8080/"
        },
        "id": "ptVJq0DY2tZb",
        "outputId": "054b9371-d0c3-4dc1-b05f-5abef37455d1"
      },
      "outputs": [
        {
          "output_type": "execute_result",
          "data": {
            "text/plain": [
              "0                               engineering systems analyst\n",
              "1                                   stress engineer glasgow\n",
              "2                          modelling and simulation analyst\n",
              "3         engineering systems analyst / mathematical mod...\n",
              "4               pioneer , miser engineering systems analyst\n",
              "                                ...                        \n",
              "244763                                   teacher of science\n",
              "244764                  teacher of business studies and ict\n",
              "244765                                      english teacher\n",
              "244766                                      supply teachers\n",
              "244767                                           accountant\n",
              "Name: Title, Length: 244767, dtype: object"
            ]
          },
          "metadata": {},
          "execution_count": 10
        }
      ],
      "source": [
        "data['Title']"
      ]
    },
    {
      "cell_type": "markdown",
      "metadata": {
        "id": "KjCqYEf22tZc"
      },
      "source": [
        "Now we can assume that our text is a space-separated list of tokens:"
      ]
    },
    {
      "cell_type": "code",
      "execution_count": 11,
      "metadata": {
        "colab": {
          "base_uri": "https://localhost:8080/"
        },
        "id": "1Unjs6pD2tZc",
        "outputId": "bf21e8be-c087-4e61-9ef7-209cada9ae9d"
      },
      "outputs": [
        {
          "output_type": "stream",
          "name": "stdout",
          "text": [
            "Tokenized:\n",
            "2         mathematical modeller / simulation analyst / o...\n",
            "100003    strategy education have been approached by a s...\n",
            "200003    working within the financial sector , in the c...\n",
            "Name: FullDescription, dtype: object\n"
          ]
        }
      ],
      "source": [
        "print(\"Tokenized:\")\n",
        "print(data[\"FullDescription\"][2::100000])\n",
        "assert data[\"FullDescription\"][2][:50] == 'mathematical modeller / simulation analyst / opera'\n",
        "assert data[\"Title\"][54321] == 'international digital account manager ( german )'"
      ]
    },
    {
      "cell_type": "markdown",
      "metadata": {
        "id": "BWqW6omM2tZd"
      },
      "source": [
        "Not all words are equally useful. Some of them are typos or rare words that are only present a few times.\n",
        "\n",
        "Let's count how many times is each word present in the data so that we can build a \"white list\" of known words."
      ]
    },
    {
      "cell_type": "code",
      "execution_count": 12,
      "metadata": {
        "id": "xf0PKZev2tZd"
      },
      "outputs": [],
      "source": [
        "import collections\n",
        "\n",
        "def count_tokens(titles, full_descriptions):\n",
        "\n",
        "  token_counts = collections.Counter()\n",
        "  for title in titles:\n",
        "    if title is not None:\n",
        "      tokens = title.split()\n",
        "      for token in tokens:\n",
        "        token_counts[token] += 1\n",
        "  for full_description in full_descriptions:\n",
        "    if full_description is not None:\n",
        "      tokens = full_description.split()\n",
        "      for token in tokens:\n",
        "        token_counts[token] += 1\n",
        "  return token_counts\n",
        "\n",
        "token_counts = count_tokens(data['Title'], data['FullDescription'])"
      ]
    },
    {
      "cell_type": "code",
      "execution_count": 13,
      "metadata": {
        "colab": {
          "base_uri": "https://localhost:8080/"
        },
        "id": "06HH9WAu2tZd",
        "outputId": "89057f56-a105-4e0c-c891-95ce682e8a41"
      },
      "outputs": [
        {
          "output_type": "stream",
          "name": "stdout",
          "text": [
            "Total unique tokens : 202704\n",
            "('and', 2657383)\n",
            "('.', 2523211)\n",
            "(',', 2318603)\n",
            "('the', 2080989)\n",
            "('to', 2019882)\n",
            "...\n",
            "('stephanietraveltraderecruitmnt', 1)\n",
            "('ruabon', 1)\n",
            "('lowehays', 1)\n",
            "Correct!\n"
          ]
        }
      ],
      "source": [
        "print(\"Total unique tokens :\", len(token_counts))\n",
        "print('\\n'.join(map(str, token_counts.most_common(n=5))))\n",
        "print('...')\n",
        "print('\\n'.join(map(str, token_counts.most_common()[-3:])))\n",
        "\n",
        "assert token_counts.most_common(1)[0][1] in  range(2600000, 2700000)\n",
        "assert len(token_counts) in range(200000, 210000)\n",
        "print('Correct!')"
      ]
    },
    {
      "cell_type": "code",
      "execution_count": 14,
      "metadata": {
        "colab": {
          "base_uri": "https://localhost:8080/",
          "height": 449
        },
        "id": "LOnd2Gvh2tZe",
        "outputId": "1edddf51-f22a-4898-bafa-34b9b6ae093f"
      },
      "outputs": [
        {
          "output_type": "display_data",
          "data": {
            "text/plain": [
              "<Figure size 640x480 with 1 Axes>"
            ],
            "image/png": "[encoded data removed]"
          },
          "metadata": {}
        }
      ],
      "source": [
        "# Let's see how many words are there for each count\n",
        "plt.hist(list(token_counts.values()), range=[0, 10**4], bins=50, log=True)\n",
        "plt.xlabel(\"Word counts\");"
      ]
    },
    {
      "cell_type": "markdown",
      "metadata": {
        "id": "YrHbeRa92tZe"
      },
      "source": [
        "Now filter tokens a list of all tokens that occur at least 10 times."
      ]
    },
    {
      "cell_type": "code",
      "execution_count": 15,
      "metadata": {
        "id": "a8lc13H62tZf"
      },
      "outputs": [],
      "source": [
        "min_count = 10\n",
        "\n",
        "# tokens from token_counts keys that had at least min_count occurrences throughout the dataset\n",
        "def filter_tokens(token_counts, min_count):\n",
        "  tokens = []\n",
        "  for token, count in token_counts.items():\n",
        "    if count >= min_count:\n",
        "      tokens.append(token)\n",
        "  return tokens\n",
        "\n",
        "tokens = filter_tokens(token_counts, min_count)"
      ]
    },
    {
      "cell_type": "code",
      "execution_count": 16,
      "metadata": {
        "colab": {
          "base_uri": "https://localhost:8080/"
        },
        "id": "GjM1CCyr2tZf",
        "outputId": "8504280c-b1db-4dc2-f1f2-34843c828098"
      },
      "outputs": [
        {
          "output_type": "stream",
          "name": "stdout",
          "text": [
            "Vocabulary size: 34158\n",
            "Correct!\n"
          ]
        }
      ],
      "source": [
        "# Add a special tokens for unknown and empty words\n",
        "UNK, PAD = \"UNK\", \"PAD\"\n",
        "tokens = [UNK, PAD] + sorted(tokens)\n",
        "print(\"Vocabulary size:\", len(tokens))\n",
        "\n",
        "assert type(tokens) == list\n",
        "assert len(tokens) in range(32000, 35000)\n",
        "assert 'me' in tokens\n",
        "assert UNK in tokens\n",
        "print(\"Correct!\")"
      ]
    },
    {
      "cell_type": "markdown",
      "metadata": {
        "id": "Mw_SrLWt2tZf"
      },
      "source": [
        "Build an inverse token index: a dictionary from token(string) to it's index in `tokens` (int)"
      ]
    },
    {
      "cell_type": "code",
      "execution_count": 17,
      "metadata": {
        "id": "LeouZxTS2tZg"
      },
      "outputs": [],
      "source": [
        "token_to_id = {}\n",
        "for i, token in enumerate(tokens):\n",
        "    token_to_id[token] = i"
      ]
    },
    {
      "cell_type": "code",
      "execution_count": 18,
      "metadata": {
        "colab": {
          "base_uri": "https://localhost:8080/"
        },
        "id": "L7l9Cszt2tZg",
        "outputId": "fc17ceb7-28b6-42ec-ede2-6045801471b8"
      },
      "outputs": [
        {
          "output_type": "stream",
          "name": "stdout",
          "text": [
            "Correct!\n"
          ]
        }
      ],
      "source": [
        "assert isinstance(token_to_id, dict)\n",
        "assert len(token_to_id) == len(tokens)\n",
        "for tok in tokens:\n",
        "    assert tokens[token_to_id[tok]] == tok\n",
        "\n",
        "print(\"Correct!\")"
      ]
    },
    {
      "cell_type": "markdown",
      "metadata": {
        "id": "zI7dgQtW2tZg"
      },
      "source": [
        "And finally, let's use the vocabulary you've built to map text lines into neural network-digestible matrices."
      ]
    },
    {
      "cell_type": "code",
      "execution_count": 19,
      "metadata": {
        "id": "A0M-Da0b2tZh"
      },
      "outputs": [],
      "source": [
        "UNK_IX, PAD_IX = map(token_to_id.get, [UNK, PAD])\n",
        "\n",
        "def as_matrix(sequences, max_len=None):\n",
        "    \"\"\" Convert a list of tokens into a matrix with padding \"\"\"\n",
        "    if isinstance(sequences[0], str):\n",
        "        sequences = list(map(str.split, sequences))\n",
        "\n",
        "    max_len = min(max(map(len, sequences)), max_len or float('inf'))\n",
        "\n",
        "    matrix = np.full((len(sequences), max_len), np.int32(PAD_IX))\n",
        "    for i,seq in enumerate(sequences):\n",
        "        row_ix = [token_to_id.get(word, UNK_IX) for word in seq[:max_len]]\n",
        "        matrix[i, :len(row_ix)] = row_ix\n",
        "\n",
        "    return matrix"
      ]
    },
    {
      "cell_type": "code",
      "execution_count": 20,
      "metadata": {
        "colab": {
          "base_uri": "https://localhost:8080/"
        },
        "id": "PvQBajZw2tZh",
        "outputId": "c2591c05-4a8c-425d-cbf1-8ba0c7d1c4ec"
      },
      "outputs": [
        {
          "output_type": "stream",
          "name": "stdout",
          "text": [
            "Lines:\n",
            "engineering systems analyst\n",
            "year 3 teacher northampton\n",
            "senior associate employment solutions\n",
            "\n",
            "Matrix:\n",
            "[[10807 30161  2166     1]\n",
            " [33946   565 30401 21284]\n",
            " [27645  2866 10672 28662]]\n"
          ]
        }
      ],
      "source": [
        "print(\"Lines:\")\n",
        "print('\\n'.join(data[\"Title\"][::100000].values), end='\\n\\n')\n",
        "print(\"Matrix:\")\n",
        "print(as_matrix(data[\"Title\"][::100000]))"
      ]
    },
    {
      "cell_type": "markdown",
      "metadata": {
        "id": "sSgH2Y_W2tZh"
      },
      "source": [
        "Now let's  encode the categirical data we have.\n",
        "\n",
        "As usual, we shall use one-hot encoding for simplicity. Kudos if you use more advanced encodings: tf-idf, pretrained w2v etc."
      ]
    },
    {
      "cell_type": "code",
      "execution_count": 21,
      "metadata": {
        "colab": {
          "base_uri": "https://localhost:8080/",
          "height": 75
        },
        "id": "7THJuybt2tZi",
        "outputId": "20bc1394-a75d-476b-eb6f-e6f892457ffe"
      },
      "outputs": [
        {
          "output_type": "execute_result",
          "data": {
            "text/plain": [
              "DictVectorizer(dtype=<class 'numpy.float32'>, sparse=False)"
            ],
            "text/html": [
              "<style>#sk-container-id-1 {color: black;background-color: white;}#sk-container-id-1 pre{padding: 0;}#sk-container-id-1 div.sk-toggleable {background-color: white;}#sk-container-id-1 label.sk-toggleable__label {cursor: pointer;display: block;width: 100%;margin-bottom: 0;padding: 0.3em;box-sizing: border-box;text-align: center;}#sk-container-id-1 label.sk-toggleable__label-arrow:before {content: \"▸\";float: left;margin-right: 0.25em;color: #696969;}#sk-container-id-1 label.sk-toggleable__label-arrow:hover:before {color: black;}#sk-container-id-1 div.sk-estimator:hover label.sk-toggleable__label-arrow:before {color: black;}#sk-container-id-1 div.sk-toggleable__content {max-height: 0;max-width: 0;overflow: hidden;text-align: left;background-color: #f0f8ff;}#sk-container-id-1 div.sk-toggleable__content pre {margin: 0.2em;color: black;border-radius: 0.25em;background-color: #f0f8ff;}#sk-container-id-1 input.sk-toggleable__control:checked~div.sk-toggleable__content {max-height: 200px;max-width: 100%;overflow: auto;}#sk-container-id-1 input.sk-toggleable__control:checked~label.sk-toggleable__label-arrow:before {content: \"▾\";}#sk-container-id-1 div.sk-estimator input.sk-toggleable__control:checked~label.sk-toggleable__label {background-color: #d4ebff;}#sk-container-id-1 div.sk-label input.sk-toggleable__control:checked~label.sk-toggleable__label {background-color: #d4ebff;}#sk-container-id-1 input.sk-hidden--visually {border: 0;clip: rect(1px 1px 1px 1px);clip: rect(1px, 1px, 1px, 1px);height: 1px;margin: -1px;overflow: hidden;padding: 0;position: absolute;width: 1px;}#sk-container-id-1 div.sk-estimator {font-family: monospace;background-color: #f0f8ff;border: 1px dotted black;border-radius: 0.25em;box-sizing: border-box;margin-bottom: 0.5em;}#sk-container-id-1 div.sk-estimator:hover {background-color: #d4ebff;}#sk-container-id-1 div.sk-parallel-item::after {content: \"\";width: 100%;border-bottom: 1px solid gray;flex-grow: 1;}#sk-container-id-1 div.sk-label:hover label.sk-toggleable__label {background-color: #d4ebff;}#sk-container-id-1 div.sk-serial::before {content: \"\";position: absolute;border-left: 1px solid gray;box-sizing: border-box;top: 0;bottom: 0;left: 50%;z-index: 0;}#sk-container-id-1 div.sk-serial {display: flex;flex-direction: column;align-items: center;background-color: white;padding-right: 0.2em;padding-left: 0.2em;position: relative;}#sk-container-id-1 div.sk-item {position: relative;z-index: 1;}#sk-container-id-1 div.sk-parallel {display: flex;align-items: stretch;justify-content: center;background-color: white;position: relative;}#sk-container-id-1 div.sk-item::before, #sk-container-id-1 div.sk-parallel-item::before {content: \"\";position: absolute;border-left: 1px solid gray;box-sizing: border-box;top: 0;bottom: 0;left: 50%;z-index: -1;}#sk-container-id-1 div.sk-parallel-item {display: flex;flex-direction: column;z-index: 1;position: relative;background-color: white;}#sk-container-id-1 div.sk-parallel-item:first-child::after {align-self: flex-end;width: 50%;}#sk-container-id-1 div.sk-parallel-item:last-child::after {align-self: flex-start;width: 50%;}#sk-container-id-1 div.sk-parallel-item:only-child::after {width: 0;}#sk-container-id-1 div.sk-dashed-wrapped {border: 1px dashed gray;margin: 0 0.4em 0.5em 0.4em;box-sizing: border-box;padding-bottom: 0.4em;background-color: white;}#sk-container-id-1 div.sk-label label {font-family: monospace;font-weight: bold;display: inline-block;line-height: 1.2em;}#sk-container-id-1 div.sk-label-container {text-align: center;}#sk-container-id-1 div.sk-container {/* jupyter's `normalize.less` sets `[hidden] { display: none; }` but bootstrap.min.css set `[hidden] { display: none !important; }` so we also need the `!important` here to be able to override the default hidden behavior on the sphinx rendered scikit-learn.org. See: https://github.com/scikit-learn/scikit-learn/issues/21755 */display: inline-block !important;position: relative;}#sk-container-id-1 div.sk-text-repr-fallback {display: none;}</style><div id=\"sk-container-id-1\" class=\"sk-top-container\"><div class=\"sk-text-repr-fallback\"><pre>DictVectorizer(dtype=&lt;class &#x27;numpy.float32&#x27;&gt;, sparse=False)</pre><b>In a Jupyter environment, please rerun this cell to show the HTML representation or trust the notebook. <br />On GitHub, the HTML representation is unable to render, please try loading this page with nbviewer.org.</b></div><div class=\"sk-container\" hidden><div class=\"sk-item\"><div class=\"sk-estimator sk-toggleable\"><input class=\"sk-toggleable__control sk-hidden--visually\" id=\"sk-estimator-id-1\" type=\"checkbox\" checked><label for=\"sk-estimator-id-1\" class=\"sk-toggleable__label sk-toggleable__label-arrow\">DictVectorizer</label><div class=\"sk-toggleable__content\"><pre>DictVectorizer(dtype=&lt;class &#x27;numpy.float32&#x27;&gt;, sparse=False)</pre></div></div></div></div></div>"
            ]
          },
          "metadata": {},
          "execution_count": 21
        }
      ],
      "source": [
        "from sklearn.feature_extraction import DictVectorizer\n",
        "\n",
        "# we only consider top-1k most frequent companies to minimize memory usage\n",
        "top_companies, top_counts = zip(*collections.Counter(data['Company']).most_common(1000))\n",
        "recognized_companies = set(top_companies)\n",
        "data[\"Company\"] = data[\"Company\"].apply(lambda comp: comp if comp in recognized_companies else \"Other\")\n",
        "\n",
        "categorical_vectorizer = DictVectorizer(dtype=np.float32, sparse=False)\n",
        "categorical_vectorizer.fit(data[categorical_columns].apply(dict, axis=1))"
      ]
    },
    {
      "cell_type": "markdown",
      "metadata": {
        "id": "vcEy8VlO2tZi"
      },
      "source": [
        "### The deep learning part\n",
        "\n",
        "Once we've learned to tokenize the data, let's design a machine learning experiment.\n",
        "\n",
        "As before, we won't focus too much on validation, opting for a simple train-test split.\n",
        "\n",
        "__To be completely rigorous,__ we've comitted a small crime here: we used the whole data for tokenization and vocabulary building. A more strict way would be to do that part on training set only. You may want to do that and measure the magnitude of changes."
      ]
    },
    {
      "cell_type": "code",
      "execution_count": 22,
      "metadata": {
        "colab": {
          "base_uri": "https://localhost:8080/"
        },
        "id": "VwR21IKW2tZi",
        "outputId": "e9c232ff-1536-4057-d8e7-942d1e546405"
      },
      "outputs": [
        {
          "output_type": "stream",
          "name": "stdout",
          "text": [
            "Train size =  195813\n",
            "Validation size =  48954\n"
          ]
        }
      ],
      "source": [
        "from sklearn.model_selection import train_test_split\n",
        "\n",
        "data_train, data_val = train_test_split(data, test_size=0.2, random_state=42)\n",
        "data_train.index = range(len(data_train))\n",
        "data_val.index = range(len(data_val))\n",
        "\n",
        "print(\"Train size = \", len(data_train))\n",
        "print(\"Validation size = \", len(data_val))"
      ]
    },
    {
      "cell_type": "code",
      "execution_count": 24,
      "metadata": {
        "id": "ZhM7fmSv2tZk"
      },
      "outputs": [],
      "source": [
        "def make_batch(data, max_len=None, word_dropout=0):\n",
        "    \"\"\"\n",
        "    Creates a keras-friendly dict from the batch data.\n",
        "    :param word_dropout: replaces token index with UNK_IX with this probability\n",
        "    :returns: a dict with {'title' : int64[batch, title_max_len]\n",
        "    \"\"\"\n",
        "    batch = {}\n",
        "    batch[\"Title\"] = as_matrix(data[\"Title\"].values, max_len)\n",
        "    batch[\"FullDescription\"] = as_matrix(data[\"FullDescription\"].values, max_len)\n",
        "    batch['Categorical'] = categorical_vectorizer.transform(data[categorical_columns].apply(dict, axis=1))\n",
        "\n",
        "    if word_dropout != 0:\n",
        "        batch[\"FullDescription\"] = apply_word_dropout(batch[\"FullDescription\"], 1. - word_dropout)\n",
        "\n",
        "    if target_column in data.columns:\n",
        "        batch[target_column] = data[target_column].values\n",
        "\n",
        "    return batch\n",
        "\n",
        "def apply_word_dropout(matrix, keep_prop, replace_with=UNK_IX, pad_ix=PAD_IX,):\n",
        "    dropout_mask = np.random.choice(2, np.shape(matrix), p=[keep_prop, 1 - keep_prop])\n",
        "    dropout_mask &= matrix != pad_ix\n",
        "    return np.choose(dropout_mask, [matrix, np.full_like(matrix, replace_with)])"
      ]
    },
    {
      "cell_type": "code",
      "execution_count": 25,
      "metadata": {
        "colab": {
          "base_uri": "https://localhost:8080/"
        },
        "id": "9XoBKLEY2tZk",
        "outputId": "50ab5e1e-b1ef-4db5-e75f-6bcec14f7279"
      },
      "outputs": [
        {
          "output_type": "execute_result",
          "data": {
            "text/plain": [
              "{'Title': array([[23234,  9075,     1,     1,     1,     1,     1],\n",
              "        [27645, 29019, 10804,     1,     1,     1,     1],\n",
              "        [ 7574, 16690, 10804, 18371,   158,  3958,  8418]], dtype=int32),\n",
              " 'FullDescription': array([[ 2142, 11425, 21956, 14220,  2596, 12587,   982, 23234,  9075,\n",
              "         31100],\n",
              "        [30847, 16451,  2142, 11425,   158,  4510, 20918, 26621,   158,\n",
              "          7859],\n",
              "        [ 7574, 16690, 10804, 18371,   158,  3958,  8418,   158, 20610,\n",
              "           158]], dtype=int32),\n",
              " 'Categorical': array([[0., 0., 0., ..., 0., 0., 0.],\n",
              "        [0., 0., 0., ..., 0., 0., 0.],\n",
              "        [0., 0., 0., ..., 0., 0., 0.]], dtype=float32),\n",
              " 'Log1pSalary': array([10.308986, 10.657283, 11.042938], dtype=float32)}"
            ]
          },
          "metadata": {},
          "execution_count": 25
        }
      ],
      "source": [
        "make_batch(data_train[:3], max_len=10)"
      ]
    },
    {
      "cell_type": "markdown",
      "metadata": {
        "id": "jlg_qCc42tZl"
      },
      "source": [
        "#### Architecture\n",
        "\n",
        "Our basic model consists of three branches:\n",
        "* Title encoder\n",
        "* Description encoder\n",
        "* Categorical features encoder\n",
        "\n",
        "We will then feed all 3 branches into one common network that predicts salary.\n",
        "\n",
        "<img src=\"https://github.com/yandexdataschool/nlp_course/raw/master/resources/w2_conv_arch.png\" width=600px>"
      ]
    },
    {
      "cell_type": "markdown",
      "metadata": {
        "id": "ndJcL_7j2taA"
      },
      "source": [
        "This clearly doesn't fit into keras' __Sequential__ interface. To build such a network, one will have to use __[Keras Functional API](https://keras.io/models/model/)__."
      ]
    },
    {
      "cell_type": "code",
      "execution_count": 26,
      "metadata": {
        "id": "nCR-g-7b2taB"
      },
      "outputs": [],
      "source": [
        "import tensorflow as tf\n",
        "import keras\n",
        "import keras.layers as L"
      ]
    },
    {
      "cell_type": "code",
      "execution_count": 27,
      "metadata": {
        "id": "uanpXcc12taB"
      },
      "outputs": [],
      "source": [
        "def build_model(n_tokens=len(tokens), n_cat_features=len(categorical_vectorizer.vocabulary_), hid_size=128):\n",
        "    \"\"\" Build a model that maps three data sources to a single linear output: predicted log1p(salary) \"\"\"\n",
        "\n",
        "    l_title = L.Input(shape=[None], name=\"Title\")\n",
        "    l_descr = L.Input(shape=[None], name=\"FullDescription\")\n",
        "    l_categ = L.Input(shape=[n_cat_features], name=\"Categorical\")\n",
        "\n",
        "    if l_title is not None:\n",
        "        f_title = tf.expand_dims(l_title, -1)\n",
        "        f_title = L.LSTM(hid_size)(f_title)\n",
        "        f_title = L.Dropout(0.2)(f_title)\n",
        "    else:\n",
        "        f_title = None\n",
        "\n",
        "    f_descr = L.LSTM(hid_size)(tf.expand_dims(l_descr,-1))\n",
        "    x = L.Concatenate()([f_title, f_descr, l_categ])\n",
        "\n",
        "    x = L.Dense(128)(x)\n",
        "    x = L.LeakyReLU()(x)\n",
        "\n",
        "    output_layer = L.Dense(1)(x)\n",
        "    model = keras.models.Model(inputs=[l_title, l_descr, l_categ], outputs=[output_layer])\n",
        "    model.compile('adam', 'mean_squared_error', metrics=['mean_absolute_error'])\n",
        "    return model\n"
      ]
    },
    {
      "cell_type": "code",
      "execution_count": 28,
      "metadata": {
        "colab": {
          "base_uri": "https://localhost:8080/"
        },
        "id": "8lWnW3gz2taC",
        "outputId": "6cda17b6-769f-40fd-9d35-9e92f82074a5"
      },
      "outputs": [
        {
          "output_type": "stream",
          "name": "stdout",
          "text": [
            "Model: \"model\"\n",
            "__________________________________________________________________________________________________\n",
            " Layer (type)                   Output Shape         Param #     Connected to                     \n",
            "==================================================================================================\n",
            " Title (InputLayer)             [(None, None)]       0           []                               \n",
            "                                                                                                  \n",
            " tf.expand_dims (TFOpLambda)    (None, None, 1)      0           ['Title[0][0]']                  \n",
            "                                                                                                  \n",
            " FullDescription (InputLayer)   [(None, None)]       0           []                               \n",
            "                                                                                                  \n",
            " lstm (LSTM)                    (None, 128)          66560       ['tf.expand_dims[0][0]']         \n",
            "                                                                                                  \n",
            " tf.expand_dims_1 (TFOpLambda)  (None, None, 1)      0           ['FullDescription[0][0]']        \n",
            "                                                                                                  \n",
            " dropout (Dropout)              (None, 128)          0           ['lstm[0][0]']                   \n",
            "                                                                                                  \n",
            " lstm_1 (LSTM)                  (None, 128)          66560       ['tf.expand_dims_1[0][0]']       \n",
            "                                                                                                  \n",
            " Categorical (InputLayer)       [(None, 3936)]       0           []                               \n",
            "                                                                                                  \n",
            " concatenate (Concatenate)      (None, 4192)         0           ['dropout[0][0]',                \n",
            "                                                                  'lstm_1[0][0]',                 \n",
            "                                                                  'Categorical[0][0]']            \n",
            "                                                                                                  \n",
            " dense (Dense)                  (None, 128)          536704      ['concatenate[0][0]']            \n",
            "                                                                                                  \n",
            " leaky_re_lu (LeakyReLU)        (None, 128)          0           ['dense[0][0]']                  \n",
            "                                                                                                  \n",
            " dense_1 (Dense)                (None, 1)            129         ['leaky_re_lu[0][0]']            \n",
            "                                                                                                  \n",
            "==================================================================================================\n",
            "Total params: 669,953\n",
            "Trainable params: 669,953\n",
            "Non-trainable params: 0\n",
            "__________________________________________________________________________________________________\n"
          ]
        },
        {
          "output_type": "stream",
          "name": "stderr",
          "text": [
            "/usr/local/lib/python3.10/dist-packages/keras/engine/functional.py:639: UserWarning: Input dict contained keys ['Log1pSalary'] which did not match any model input. They will be ignored by the model.\n",
            "  inputs = self._flatten_to_reference_inputs(inputs)\n"
          ]
        },
        {
          "output_type": "stream",
          "name": "stdout",
          "text": [
            "4/4 [==============================] - 5s 17ms/step\n"
          ]
        },
        {
          "output_type": "stream",
          "name": "stderr",
          "text": [
            "/usr/local/lib/python3.10/dist-packages/keras/engine/functional.py:639: UserWarning: Input dict contained keys ['Log1pSalary'] which did not match any model input. They will be ignored by the model.\n",
            "  inputs = self._flatten_to_reference_inputs(inputs)\n"
          ]
        }
      ],
      "source": [
        "model = build_model()\n",
        "model.summary()\n",
        "\n",
        "dummy_pred = model.predict(make_batch(data_train[:100]))\n",
        "dummy_loss = model.train_on_batch(make_batch(data_train[:100]), data_train['Log1pSalary'][:100])[0]\n",
        "assert dummy_pred.shape == (100, 1)\n",
        "assert len(np.unique(dummy_pred)) > 20, \"model returns suspiciously few unique outputs. Check your initialization\"\n",
        "assert np.ndim(dummy_loss) == 0 and 0. <= dummy_loss <= 250., \"make sure you minimize MSE\""
      ]
    },
    {
      "cell_type": "markdown",
      "metadata": {
        "id": "CpgHU5wl2taC"
      },
      "source": [
        "#### Training and evaluation\n",
        "\n",
        "As usual, we gonna feed our model with random minibatches of data.\n",
        "\n",
        "As we train, we want to monitor not only loss function, which is computed in log-space, but also the actual error measured in dollars."
      ]
    },
    {
      "cell_type": "code",
      "execution_count": 29,
      "metadata": {
        "id": "dyei76t62taC"
      },
      "outputs": [],
      "source": [
        "def iterate_minibatches(data, batch_size=256, shuffle=True, cycle=False, **kwargs):\n",
        "    \"\"\" iterates minibatches of data in random order \"\"\"\n",
        "    while True:\n",
        "        indices = np.arange(len(data))\n",
        "        if shuffle:\n",
        "            indices = np.random.permutation(indices)\n",
        "\n",
        "        for start in range(0, len(indices), batch_size):\n",
        "            batch = make_batch(data.iloc[indices[start : start + batch_size]], **kwargs)\n",
        "            target = batch.pop(target_column)\n",
        "            yield batch, target\n",
        "\n",
        "        if not cycle: break"
      ]
    },
    {
      "cell_type": "markdown",
      "metadata": {
        "id": "qsml5l_L2taD"
      },
      "source": [
        "### Model training\n",
        "\n",
        "We can now fit our model the usual minibatch way. The interesting part is that we train on an infinite stream of minibatches, produced by `iterate_minibatches` function."
      ]
    },
    {
      "cell_type": "code",
      "execution_count": 56,
      "metadata": {
        "id": "jWLW4pn12taE"
      },
      "outputs": [],
      "source": [
        "batch_size = 256\n",
        "epochs = 100\n",
        "steps_per_epoch = (len(data_train) - 1) // batch_size + 1"
      ]
    },
    {
      "cell_type": "code",
      "source": [
        "import os\n",
        "checkpoint_path = \"training/cp-{epoch:04d}.ckpt\"\n",
        "checkpoint_dir = os.path.dirname(checkpoint_path)"
      ],
      "metadata": {
        "id": "RAAKFjp_U_Au"
      },
      "execution_count": 46,
      "outputs": []
    },
    {
      "cell_type": "code",
      "source": [
        "callback = tf.keras.callbacks.EarlyStopping(monitor='val_loss', patience=3)\n",
        "cp_callback = tf.keras.callbacks.ModelCheckpoint(\n",
        "    filepath=checkpoint_path,\n",
        "    verbose=1,\n",
        "    save_weights_only=True,\n",
        "    save_freq=steps_per_epoch)\n",
        "model_1 = build_model()\n",
        "\n",
        "model_1.fit(iterate_minibatches(data_train, batch_size, cycle=True, word_dropout=0.05),\n",
        "                    epochs=epochs, steps_per_epoch=steps_per_epoch,\n",
        "\n",
        "                    validation_data=iterate_minibatches(data_val, batch_size, cycle=True),\n",
        "                    validation_steps=data_val.shape[0] // batch_size, callbacks = [callback, cp_callback]\n",
        "                   )"
      ],
      "metadata": {
        "colab": {
          "base_uri": "https://localhost:8080/"
        },
        "id": "d0ozlTo7OBa4",
        "outputId": "2f586809-eab0-43cb-8998-cf3d40e09dee"
      },
      "execution_count": 47,
      "outputs": [
        {
          "output_type": "stream",
          "name": "stdout",
          "text": [
            "Epoch 1/100\n",
            "764/765 [============================>.] - ETA: 0s - loss: 1.1512 - mean_absolute_error: 0.4868\n",
            "Epoch 1: saving model to training/cp-0001.ckpt\n",
            "765/765 [==============================] - 95s 118ms/step - loss: 1.1501 - mean_absolute_error: 0.4866 - val_loss: 0.1418 - val_mean_absolute_error: 0.2914\n",
            "Epoch 2/100\n",
            "764/765 [============================>.] - ETA: 0s - loss: 0.1455 - mean_absolute_error: 0.2964\n",
            "Epoch 2: saving model to training/cp-0002.ckpt\n",
            "765/765 [==============================] - 73s 96ms/step - loss: 0.1455 - mean_absolute_error: 0.2964 - val_loss: 0.1403 - val_mean_absolute_error: 0.2913\n",
            "Epoch 3/100\n",
            "764/765 [============================>.] - ETA: 0s - loss: 0.1418 - mean_absolute_error: 0.2923\n",
            "Epoch 3: saving model to training/cp-0003.ckpt\n",
            "765/765 [==============================] - 75s 98ms/step - loss: 0.1418 - mean_absolute_error: 0.2923 - val_loss: 0.1397 - val_mean_absolute_error: 0.2899\n",
            "Epoch 4/100\n",
            "764/765 [============================>.] - ETA: 0s - loss: 0.1440 - mean_absolute_error: 0.2943\n",
            "Epoch 4: saving model to training/cp-0004.ckpt\n",
            "765/765 [==============================] - 74s 97ms/step - loss: 0.1440 - mean_absolute_error: 0.2944 - val_loss: 0.1422 - val_mean_absolute_error: 0.2916\n",
            "Epoch 5/100\n",
            "764/765 [============================>.] - ETA: 0s - loss: 0.1448 - mean_absolute_error: 0.2956\n",
            "Epoch 5: saving model to training/cp-0005.ckpt\n",
            "765/765 [==============================] - 73s 95ms/step - loss: 0.1448 - mean_absolute_error: 0.2956 - val_loss: 0.1418 - val_mean_absolute_error: 0.2915\n",
            "Epoch 6/100\n",
            "764/765 [============================>.] - ETA: 0s - loss: 0.1434 - mean_absolute_error: 0.2938\n",
            "Epoch 6: saving model to training/cp-0006.ckpt\n",
            "765/765 [==============================] - 74s 97ms/step - loss: 0.1434 - mean_absolute_error: 0.2938 - val_loss: 0.1408 - val_mean_absolute_error: 0.2912\n"
          ]
        },
        {
          "output_type": "execute_result",
          "data": {
            "text/plain": [
              "<keras.callbacks.History at 0x7fa42c2bd360>"
            ]
          },
          "metadata": {},
          "execution_count": 47
        }
      ]
    },
    {
      "cell_type": "code",
      "source": [
        "def print_metrics(model, data, batch_size=batch_size, name=\"\", **kw):\n",
        "    squared_error = abs_error = num_samples = 0.0\n",
        "    for batch_x, batch_y in iterate_minibatches(data, batch_size=batch_size, shuffle=False, **kw):\n",
        "        batch_pred = model.predict(batch_x)[:, 0]\n",
        "        squared_error += np.sum(np.square(batch_pred - batch_y))\n",
        "        abs_error += np.sum(np.abs(batch_pred - batch_y))\n",
        "        num_samples += len(batch_y)\n",
        "    print(\"%s results:\" % (name or \"\"))\n",
        "    print(\"Mean square error: %.5f\" % (squared_error / num_samples))\n",
        "    print(\"Mean absolute error: %.5f\" % (abs_error / num_samples))\n",
        "    return squared_error, abs_error\n",
        "\n",
        "print_metrics(model_1, data_train, name='Train')\n",
        "print_metrics(model_1, data_val, name='Val');"
      ],
      "metadata": {
        "colab": {
          "base_uri": "https://localhost:8080/"
        },
        "id": "AqfqmeoxY5ra",
        "outputId": "f4e38992-7749-45e7-c514-0538d74d6fb9"
      },
      "execution_count": 48,
      "outputs": [
        {
          "output_type": "stream",
          "name": "stdout",
          "text": [
            "8/8 [==============================] - 1s 14ms/step\n",
            "8/8 [==============================] - 1s 18ms/step\n",
            "8/8 [==============================] - 0s 12ms/step\n",
            "8/8 [==============================] - 0s 22ms/step\n",
            "8/8 [==============================] - 0s 28ms/step\n",
            "8/8 [==============================] - 0s 20ms/step\n",
            "8/8 [==============================] - 0s 18ms/step\n",
            "8/8 [==============================] - 0s 18ms/step\n",
            "8/8 [==============================] - 0s 13ms/step\n",
            "8/8 [==============================] - 0s 14ms/step\n",
            "8/8 [==============================] - 0s 14ms/step\n",
            "8/8 [==============================] - 0s 11ms/step\n",
            "8/8 [==============================] - 0s 14ms/step\n",
            "8/8 [==============================] - 0s 14ms/step\n",
            "8/8 [==============================] - 0s 15ms/step\n",
            "8/8 [==============================] - 0s 12ms/step\n",
            "8/8 [==============================] - 0s 12ms/step\n",
            "8/8 [==============================] - 0s 12ms/step\n",
            "8/8 [==============================] - 0s 11ms/step\n",
            "8/8 [==============================] - 0s 14ms/step\n",
            "8/8 [==============================] - 0s 18ms/step\n",
            "8/8 [==============================] - 0s 13ms/step\n",
            "8/8 [==============================] - 0s 12ms/step\n",
            "8/8 [==============================] - 0s 13ms/step\n",
            "8/8 [==============================] - 0s 16ms/step\n",
            "8/8 [==============================] - 0s 12ms/step\n",
            "8/8 [==============================] - 0s 12ms/step\n",
            "8/8 [==============================] - 0s 12ms/step\n",
            "8/8 [==============================] - 0s 11ms/step\n",
            "8/8 [==============================] - 0s 15ms/step\n",
            "8/8 [==============================] - 0s 11ms/step\n",
            "8/8 [==============================] - 0s 14ms/step\n",
            "8/8 [==============================] - 0s 13ms/step\n",
            "8/8 [==============================] - 0s 10ms/step\n",
            "8/8 [==============================] - 0s 13ms/step\n",
            "8/8 [==============================] - 0s 13ms/step\n",
            "8/8 [==============================] - 0s 24ms/step\n",
            "8/8 [==============================] - 0s 13ms/step\n",
            "8/8 [==============================] - 0s 11ms/step\n",
            "8/8 [==============================] - 0s 14ms/step\n",
            "8/8 [==============================] - 0s 13ms/step\n",
            "8/8 [==============================] - 0s 17ms/step\n",
            "8/8 [==============================] - 0s 18ms/step\n",
            "8/8 [==============================] - 0s 14ms/step\n",
            "8/8 [==============================] - 0s 12ms/step\n",
            "8/8 [==============================] - 0s 13ms/step\n",
            "8/8 [==============================] - 0s 16ms/step\n",
            "8/8 [==============================] - 0s 14ms/step\n",
            "8/8 [==============================] - 0s 12ms/step\n",
            "8/8 [==============================] - 0s 12ms/step\n",
            "8/8 [==============================] - 0s 15ms/step\n",
            "8/8 [==============================] - 0s 13ms/step\n",
            "8/8 [==============================] - 0s 17ms/step\n",
            "8/8 [==============================] - 0s 16ms/step\n",
            "8/8 [==============================] - 0s 17ms/step\n",
            "8/8 [==============================] - 0s 19ms/step\n",
            "8/8 [==============================] - 0s 20ms/step\n",
            "8/8 [==============================] - 0s 15ms/step\n",
            "8/8 [==============================] - 0s 19ms/step\n",
            "8/8 [==============================] - 0s 18ms/step\n",
            "8/8 [==============================] - 0s 18ms/step\n",
            "8/8 [==============================] - 0s 13ms/step\n",
            "8/8 [==============================] - 0s 12ms/step\n",
            "8/8 [==============================] - 0s 17ms/step\n",
            "8/8 [==============================] - 0s 11ms/step\n",
            "8/8 [==============================] - 0s 11ms/step\n",
            "8/8 [==============================] - 0s 15ms/step\n",
            "8/8 [==============================] - 0s 12ms/step\n",
            "8/8 [==============================] - 0s 18ms/step\n",
            "8/8 [==============================] - 0s 11ms/step\n",
            "8/8 [==============================] - 0s 18ms/step\n",
            "8/8 [==============================] - 0s 17ms/step\n",
            "8/8 [==============================] - 0s 27ms/step\n",
            "8/8 [==============================] - 0s 16ms/step\n",
            "8/8 [==============================] - 0s 16ms/step\n",
            "8/8 [==============================] - 0s 12ms/step\n",
            "8/8 [==============================] - 0s 12ms/step\n",
            "8/8 [==============================] - 0s 11ms/step\n",
            "8/8 [==============================] - 0s 13ms/step\n",
            "8/8 [==============================] - 0s 17ms/step\n",
            "8/8 [==============================] - 0s 14ms/step\n",
            "8/8 [==============================] - 0s 14ms/step\n",
            "8/8 [==============================] - 0s 11ms/step\n",
            "8/8 [==============================] - 0s 12ms/step\n",
            "8/8 [==============================] - 0s 13ms/step\n",
            "8/8 [==============================] - 0s 15ms/step\n",
            "8/8 [==============================] - 0s 13ms/step\n",
            "8/8 [==============================] - 0s 16ms/step\n",
            "8/8 [==============================] - 0s 13ms/step\n",
            "8/8 [==============================] - 0s 13ms/step\n",
            "8/8 [==============================] - 0s 17ms/step\n",
            "8/8 [==============================] - 0s 11ms/step\n",
            "8/8 [==============================] - 0s 14ms/step\n",
            "8/8 [==============================] - 0s 12ms/step\n",
            "8/8 [==============================] - 0s 18ms/step\n",
            "8/8 [==============================] - 0s 13ms/step\n",
            "8/8 [==============================] - 0s 12ms/step\n",
            "8/8 [==============================] - 0s 12ms/step\n",
            "8/8 [==============================] - 0s 16ms/step\n",
            "8/8 [==============================] - 0s 13ms/step\n",
            "8/8 [==============================] - 0s 16ms/step\n",
            "8/8 [==============================] - 0s 13ms/step\n",
            "8/8 [==============================] - 0s 13ms/step\n",
            "8/8 [==============================] - 0s 13ms/step\n",
            "8/8 [==============================] - 0s 14ms/step\n",
            "8/8 [==============================] - 0s 14ms/step\n",
            "8/8 [==============================] - 0s 18ms/step\n",
            "8/8 [==============================] - 0s 18ms/step\n",
            "8/8 [==============================] - 0s 20ms/step\n",
            "8/8 [==============================] - 0s 16ms/step\n",
            "8/8 [==============================] - 0s 17ms/step\n",
            "8/8 [==============================] - 0s 12ms/step\n",
            "8/8 [==============================] - 0s 13ms/step\n",
            "8/8 [==============================] - 0s 17ms/step\n",
            "8/8 [==============================] - 0s 11ms/step\n",
            "8/8 [==============================] - 0s 13ms/step\n",
            "8/8 [==============================] - 0s 14ms/step\n",
            "8/8 [==============================] - 0s 14ms/step\n",
            "8/8 [==============================] - 0s 12ms/step\n",
            "8/8 [==============================] - 0s 12ms/step\n",
            "8/8 [==============================] - 0s 13ms/step\n",
            "8/8 [==============================] - 0s 12ms/step\n",
            "8/8 [==============================] - 0s 14ms/step\n",
            "8/8 [==============================] - 0s 14ms/step\n",
            "8/8 [==============================] - 0s 12ms/step\n",
            "8/8 [==============================] - 0s 12ms/step\n",
            "8/8 [==============================] - 0s 13ms/step\n",
            "8/8 [==============================] - 0s 12ms/step\n",
            "8/8 [==============================] - 0s 12ms/step\n",
            "8/8 [==============================] - 0s 12ms/step\n",
            "8/8 [==============================] - 0s 13ms/step\n",
            "8/8 [==============================] - 0s 13ms/step\n",
            "8/8 [==============================] - 0s 10ms/step\n",
            "8/8 [==============================] - 0s 14ms/step\n",
            "8/8 [==============================] - 0s 14ms/step\n",
            "8/8 [==============================] - 0s 11ms/step\n",
            "8/8 [==============================] - 0s 14ms/step\n",
            "8/8 [==============================] - 0s 14ms/step\n",
            "8/8 [==============================] - 0s 14ms/step\n",
            "8/8 [==============================] - 0s 12ms/step\n",
            "8/8 [==============================] - 0s 18ms/step\n",
            "8/8 [==============================] - 0s 15ms/step\n",
            "8/8 [==============================] - 0s 14ms/step\n",
            "8/8 [==============================] - 0s 11ms/step\n",
            "8/8 [==============================] - 0s 15ms/step\n",
            "8/8 [==============================] - 0s 13ms/step\n",
            "8/8 [==============================] - 0s 13ms/step\n",
            "8/8 [==============================] - 0s 11ms/step\n",
            "8/8 [==============================] - 0s 12ms/step\n",
            "8/8 [==============================] - 0s 11ms/step\n",
            "8/8 [==============================] - 0s 16ms/step\n",
            "8/8 [==============================] - 0s 14ms/step\n",
            "8/8 [==============================] - 0s 13ms/step\n",
            "8/8 [==============================] - 0s 16ms/step\n",
            "8/8 [==============================] - 0s 13ms/step\n",
            "8/8 [==============================] - 0s 15ms/step\n",
            "8/8 [==============================] - 0s 15ms/step\n",
            "8/8 [==============================] - 0s 11ms/step\n",
            "8/8 [==============================] - 0s 20ms/step\n",
            "8/8 [==============================] - 0s 16ms/step\n",
            "8/8 [==============================] - 0s 38ms/step\n",
            "8/8 [==============================] - 0s 17ms/step\n",
            "8/8 [==============================] - 0s 23ms/step\n",
            "8/8 [==============================] - 0s 12ms/step\n",
            "8/8 [==============================] - 0s 14ms/step\n",
            "8/8 [==============================] - 0s 12ms/step\n",
            "8/8 [==============================] - 0s 16ms/step\n",
            "8/8 [==============================] - 0s 13ms/step\n",
            "8/8 [==============================] - 0s 11ms/step\n",
            "8/8 [==============================] - 0s 11ms/step\n",
            "8/8 [==============================] - 0s 14ms/step\n",
            "8/8 [==============================] - 0s 16ms/step\n",
            "8/8 [==============================] - 0s 15ms/step\n",
            "8/8 [==============================] - 0s 11ms/step\n",
            "8/8 [==============================] - 0s 14ms/step\n",
            "8/8 [==============================] - 0s 12ms/step\n",
            "8/8 [==============================] - 0s 11ms/step\n",
            "8/8 [==============================] - 0s 11ms/step\n",
            "8/8 [==============================] - 0s 16ms/step\n",
            "8/8 [==============================] - 0s 11ms/step\n",
            "8/8 [==============================] - 0s 14ms/step\n",
            "8/8 [==============================] - 0s 22ms/step\n",
            "8/8 [==============================] - 0s 18ms/step\n",
            "8/8 [==============================] - 0s 15ms/step\n",
            "8/8 [==============================] - 0s 17ms/step\n",
            "8/8 [==============================] - 0s 19ms/step\n",
            "8/8 [==============================] - 0s 20ms/step\n",
            "8/8 [==============================] - 0s 21ms/step\n",
            "8/8 [==============================] - 0s 11ms/step\n",
            "8/8 [==============================] - 0s 14ms/step\n",
            "8/8 [==============================] - 0s 12ms/step\n",
            "8/8 [==============================] - 0s 17ms/step\n",
            "8/8 [==============================] - 0s 14ms/step\n",
            "8/8 [==============================] - 0s 12ms/step\n",
            "8/8 [==============================] - 0s 11ms/step\n",
            "8/8 [==============================] - 0s 14ms/step\n",
            "8/8 [==============================] - 0s 13ms/step\n",
            "8/8 [==============================] - 0s 13ms/step\n",
            "8/8 [==============================] - 0s 19ms/step\n",
            "8/8 [==============================] - 0s 14ms/step\n",
            "8/8 [==============================] - 0s 13ms/step\n",
            "8/8 [==============================] - 0s 12ms/step\n",
            "8/8 [==============================] - 0s 13ms/step\n",
            "8/8 [==============================] - 0s 10ms/step\n",
            "8/8 [==============================] - 0s 12ms/step\n",
            "8/8 [==============================] - 0s 20ms/step\n",
            "8/8 [==============================] - 0s 24ms/step\n",
            "8/8 [==============================] - 0s 15ms/step\n",
            "8/8 [==============================] - 0s 19ms/step\n",
            "8/8 [==============================] - 0s 19ms/step\n",
            "8/8 [==============================] - 0s 33ms/step\n",
            "8/8 [==============================] - 0s 18ms/step\n",
            "8/8 [==============================] - 0s 17ms/step\n",
            "8/8 [==============================] - 0s 12ms/step\n",
            "8/8 [==============================] - 0s 12ms/step\n",
            "8/8 [==============================] - 0s 13ms/step\n",
            "8/8 [==============================] - 0s 12ms/step\n",
            "8/8 [==============================] - 0s 12ms/step\n",
            "8/8 [==============================] - 0s 11ms/step\n",
            "8/8 [==============================] - 0s 16ms/step\n",
            "8/8 [==============================] - 0s 14ms/step\n",
            "8/8 [==============================] - 0s 11ms/step\n",
            "8/8 [==============================] - 0s 15ms/step\n",
            "8/8 [==============================] - 0s 13ms/step\n",
            "8/8 [==============================] - 0s 11ms/step\n",
            "8/8 [==============================] - 0s 11ms/step\n",
            "8/8 [==============================] - 0s 11ms/step\n",
            "8/8 [==============================] - 0s 11ms/step\n",
            "8/8 [==============================] - 0s 11ms/step\n",
            "8/8 [==============================] - 0s 11ms/step\n",
            "8/8 [==============================] - 0s 12ms/step\n",
            "8/8 [==============================] - 0s 19ms/step\n",
            "8/8 [==============================] - 0s 12ms/step\n",
            "8/8 [==============================] - 0s 13ms/step\n",
            "8/8 [==============================] - 0s 14ms/step\n",
            "8/8 [==============================] - 0s 12ms/step\n",
            "8/8 [==============================] - 0s 13ms/step\n",
            "8/8 [==============================] - 0s 20ms/step\n",
            "8/8 [==============================] - 0s 11ms/step\n",
            "8/8 [==============================] - 0s 12ms/step\n",
            "8/8 [==============================] - 0s 12ms/step\n",
            "8/8 [==============================] - 0s 14ms/step\n",
            "8/8 [==============================] - 0s 12ms/step\n",
            "8/8 [==============================] - 0s 13ms/step\n",
            "8/8 [==============================] - 0s 19ms/step\n",
            "8/8 [==============================] - 0s 15ms/step\n",
            "8/8 [==============================] - 0s 11ms/step\n",
            "8/8 [==============================] - 0s 14ms/step\n",
            "8/8 [==============================] - 0s 14ms/step\n",
            "8/8 [==============================] - 0s 17ms/step\n",
            "8/8 [==============================] - 0s 12ms/step\n",
            "8/8 [==============================] - 0s 12ms/step\n",
            "8/8 [==============================] - 0s 15ms/step\n",
            "8/8 [==============================] - 0s 11ms/step\n",
            "8/8 [==============================] - 0s 15ms/step\n",
            "8/8 [==============================] - 0s 26ms/step\n",
            "8/8 [==============================] - 0s 14ms/step\n",
            "8/8 [==============================] - 0s 26ms/step\n",
            "8/8 [==============================] - 0s 22ms/step\n",
            "8/8 [==============================] - 0s 17ms/step\n",
            "8/8 [==============================] - 0s 17ms/step\n",
            "8/8 [==============================] - 0s 17ms/step\n",
            "8/8 [==============================] - 0s 18ms/step\n",
            "8/8 [==============================] - 0s 16ms/step\n",
            "8/8 [==============================] - 0s 18ms/step\n",
            "8/8 [==============================] - 0s 15ms/step\n",
            "8/8 [==============================] - 0s 14ms/step\n",
            "8/8 [==============================] - 0s 13ms/step\n",
            "8/8 [==============================] - 0s 18ms/step\n",
            "8/8 [==============================] - 0s 13ms/step\n",
            "8/8 [==============================] - 0s 13ms/step\n",
            "8/8 [==============================] - 0s 12ms/step\n",
            "8/8 [==============================] - 0s 16ms/step\n",
            "8/8 [==============================] - 0s 18ms/step\n",
            "8/8 [==============================] - 0s 18ms/step\n",
            "8/8 [==============================] - 0s 13ms/step\n",
            "8/8 [==============================] - 0s 11ms/step\n",
            "8/8 [==============================] - 0s 12ms/step\n",
            "8/8 [==============================] - 0s 12ms/step\n",
            "8/8 [==============================] - 0s 12ms/step\n",
            "8/8 [==============================] - 0s 12ms/step\n",
            "8/8 [==============================] - 0s 15ms/step\n",
            "8/8 [==============================] - 0s 15ms/step\n",
            "8/8 [==============================] - 0s 11ms/step\n",
            "8/8 [==============================] - 0s 13ms/step\n",
            "8/8 [==============================] - 0s 15ms/step\n",
            "8/8 [==============================] - 0s 14ms/step\n",
            "8/8 [==============================] - 0s 16ms/step\n",
            "8/8 [==============================] - 0s 14ms/step\n",
            "8/8 [==============================] - 0s 14ms/step\n",
            "8/8 [==============================] - 0s 12ms/step\n",
            "8/8 [==============================] - 0s 12ms/step\n",
            "8/8 [==============================] - 0s 12ms/step\n",
            "8/8 [==============================] - 0s 12ms/step\n",
            "8/8 [==============================] - 0s 12ms/step\n",
            "8/8 [==============================] - 0s 13ms/step\n",
            "8/8 [==============================] - 0s 14ms/step\n",
            "8/8 [==============================] - 0s 14ms/step\n",
            "8/8 [==============================] - 0s 18ms/step\n",
            "8/8 [==============================] - 0s 13ms/step\n",
            "8/8 [==============================] - 0s 12ms/step\n",
            "8/8 [==============================] - 0s 12ms/step\n",
            "8/8 [==============================] - 0s 15ms/step\n",
            "8/8 [==============================] - 0s 12ms/step\n",
            "8/8 [==============================] - 0s 12ms/step\n",
            "8/8 [==============================] - 0s 14ms/step\n",
            "8/8 [==============================] - 0s 15ms/step\n",
            "8/8 [==============================] - 0s 14ms/step\n",
            "8/8 [==============================] - 0s 11ms/step\n",
            "8/8 [==============================] - 0s 13ms/step\n",
            "8/8 [==============================] - 0s 14ms/step\n",
            "8/8 [==============================] - 0s 21ms/step\n",
            "8/8 [==============================] - 0s 19ms/step\n",
            "8/8 [==============================] - 0s 20ms/step\n",
            "8/8 [==============================] - 0s 22ms/step\n",
            "8/8 [==============================] - 0s 22ms/step\n",
            "8/8 [==============================] - 0s 14ms/step\n",
            "8/8 [==============================] - 0s 12ms/step\n",
            "8/8 [==============================] - 0s 15ms/step\n",
            "8/8 [==============================] - 0s 11ms/step\n",
            "8/8 [==============================] - 0s 12ms/step\n",
            "8/8 [==============================] - 0s 16ms/step\n",
            "8/8 [==============================] - 0s 14ms/step\n",
            "8/8 [==============================] - 0s 17ms/step\n",
            "8/8 [==============================] - 0s 14ms/step\n",
            "8/8 [==============================] - 0s 14ms/step\n",
            "8/8 [==============================] - 0s 14ms/step\n",
            "8/8 [==============================] - 0s 16ms/step\n",
            "8/8 [==============================] - 0s 24ms/step\n",
            "8/8 [==============================] - 0s 11ms/step\n",
            "8/8 [==============================] - 0s 28ms/step\n",
            "8/8 [==============================] - 0s 13ms/step\n",
            "8/8 [==============================] - 0s 12ms/step\n",
            "8/8 [==============================] - 0s 16ms/step\n",
            "8/8 [==============================] - 0s 14ms/step\n",
            "8/8 [==============================] - 0s 14ms/step\n",
            "8/8 [==============================] - 0s 13ms/step\n",
            "8/8 [==============================] - 0s 20ms/step\n",
            "8/8 [==============================] - 0s 13ms/step\n",
            "8/8 [==============================] - 0s 13ms/step\n",
            "8/8 [==============================] - 0s 14ms/step\n",
            "8/8 [==============================] - 0s 18ms/step\n",
            "8/8 [==============================] - 0s 13ms/step\n",
            "8/8 [==============================] - 0s 12ms/step\n",
            "8/8 [==============================] - 0s 13ms/step\n",
            "8/8 [==============================] - 0s 13ms/step\n",
            "8/8 [==============================] - 0s 12ms/step\n",
            "8/8 [==============================] - 0s 13ms/step\n",
            "8/8 [==============================] - 0s 13ms/step\n",
            "8/8 [==============================] - 0s 14ms/step\n",
            "8/8 [==============================] - 0s 13ms/step\n",
            "8/8 [==============================] - 0s 13ms/step\n",
            "8/8 [==============================] - 0s 11ms/step\n",
            "8/8 [==============================] - 0s 14ms/step\n",
            "8/8 [==============================] - 0s 12ms/step\n",
            "8/8 [==============================] - 0s 13ms/step\n",
            "8/8 [==============================] - 0s 14ms/step\n",
            "8/8 [==============================] - 0s 12ms/step\n",
            "8/8 [==============================] - 0s 11ms/step\n",
            "8/8 [==============================] - 0s 19ms/step\n",
            "8/8 [==============================] - 0s 20ms/step\n",
            "8/8 [==============================] - 0s 17ms/step\n",
            "8/8 [==============================] - 0s 19ms/step\n",
            "8/8 [==============================] - 0s 16ms/step\n",
            "8/8 [==============================] - 0s 22ms/step\n",
            "8/8 [==============================] - 0s 20ms/step\n",
            "8/8 [==============================] - 0s 15ms/step\n",
            "8/8 [==============================] - 0s 17ms/step\n",
            "8/8 [==============================] - 0s 11ms/step\n",
            "8/8 [==============================] - 0s 12ms/step\n",
            "8/8 [==============================] - 0s 13ms/step\n",
            "8/8 [==============================] - 0s 15ms/step\n",
            "8/8 [==============================] - 0s 12ms/step\n",
            "8/8 [==============================] - 0s 17ms/step\n",
            "8/8 [==============================] - 0s 20ms/step\n",
            "8/8 [==============================] - 0s 12ms/step\n",
            "8/8 [==============================] - 0s 14ms/step\n",
            "8/8 [==============================] - 0s 16ms/step\n",
            "8/8 [==============================] - 0s 16ms/step\n",
            "8/8 [==============================] - 0s 16ms/step\n",
            "8/8 [==============================] - 0s 12ms/step\n",
            "8/8 [==============================] - 0s 13ms/step\n",
            "8/8 [==============================] - 0s 14ms/step\n",
            "8/8 [==============================] - 0s 14ms/step\n",
            "8/8 [==============================] - 0s 14ms/step\n",
            "8/8 [==============================] - 0s 13ms/step\n",
            "8/8 [==============================] - 0s 20ms/step\n",
            "8/8 [==============================] - 0s 19ms/step\n",
            "8/8 [==============================] - 0s 13ms/step\n",
            "8/8 [==============================] - 0s 13ms/step\n",
            "8/8 [==============================] - 0s 11ms/step\n",
            "8/8 [==============================] - 0s 17ms/step\n",
            "8/8 [==============================] - 0s 15ms/step\n",
            "8/8 [==============================] - 0s 11ms/step\n",
            "8/8 [==============================] - 0s 11ms/step\n",
            "8/8 [==============================] - 0s 11ms/step\n",
            "8/8 [==============================] - 0s 14ms/step\n",
            "8/8 [==============================] - 0s 12ms/step\n",
            "8/8 [==============================] - 0s 14ms/step\n",
            "8/8 [==============================] - 0s 12ms/step\n",
            "8/8 [==============================] - 0s 18ms/step\n",
            "8/8 [==============================] - 0s 11ms/step\n",
            "8/8 [==============================] - 0s 13ms/step\n",
            "8/8 [==============================] - 0s 11ms/step\n",
            "8/8 [==============================] - 0s 14ms/step\n",
            "8/8 [==============================] - 0s 16ms/step\n",
            "8/8 [==============================] - 0s 14ms/step\n",
            "8/8 [==============================] - 0s 12ms/step\n",
            "8/8 [==============================] - 0s 11ms/step\n",
            "8/8 [==============================] - 0s 19ms/step\n",
            "8/8 [==============================] - 0s 22ms/step\n",
            "8/8 [==============================] - 0s 13ms/step\n",
            "8/8 [==============================] - 0s 22ms/step\n",
            "8/8 [==============================] - 0s 14ms/step\n",
            "8/8 [==============================] - 0s 14ms/step\n",
            "8/8 [==============================] - 0s 18ms/step\n",
            "8/8 [==============================] - 0s 15ms/step\n",
            "8/8 [==============================] - 0s 12ms/step\n",
            "8/8 [==============================] - 0s 15ms/step\n",
            "8/8 [==============================] - 0s 12ms/step\n",
            "8/8 [==============================] - 0s 22ms/step\n",
            "8/8 [==============================] - 0s 12ms/step\n",
            "8/8 [==============================] - 0s 15ms/step\n",
            "8/8 [==============================] - 0s 15ms/step\n",
            "8/8 [==============================] - 0s 13ms/step\n",
            "8/8 [==============================] - 0s 15ms/step\n",
            "8/8 [==============================] - 0s 18ms/step\n",
            "8/8 [==============================] - 0s 11ms/step\n",
            "8/8 [==============================] - 0s 13ms/step\n",
            "8/8 [==============================] - 0s 12ms/step\n",
            "8/8 [==============================] - 0s 17ms/step\n",
            "8/8 [==============================] - 0s 11ms/step\n",
            "8/8 [==============================] - 0s 13ms/step\n",
            "8/8 [==============================] - 0s 14ms/step\n",
            "8/8 [==============================] - 0s 13ms/step\n",
            "8/8 [==============================] - 0s 13ms/step\n",
            "8/8 [==============================] - 0s 13ms/step\n",
            "8/8 [==============================] - 0s 16ms/step\n",
            "8/8 [==============================] - 0s 15ms/step\n",
            "8/8 [==============================] - 0s 13ms/step\n",
            "8/8 [==============================] - 0s 12ms/step\n",
            "8/8 [==============================] - 0s 12ms/step\n",
            "8/8 [==============================] - 0s 15ms/step\n",
            "8/8 [==============================] - 0s 19ms/step\n",
            "8/8 [==============================] - 0s 12ms/step\n",
            "8/8 [==============================] - 0s 12ms/step\n",
            "8/8 [==============================] - 0s 14ms/step\n",
            "8/8 [==============================] - 0s 15ms/step\n",
            "8/8 [==============================] - 0s 17ms/step\n",
            "8/8 [==============================] - 0s 17ms/step\n",
            "8/8 [==============================] - 0s 14ms/step\n",
            "8/8 [==============================] - 0s 16ms/step\n",
            "8/8 [==============================] - 0s 17ms/step\n",
            "8/8 [==============================] - 0s 15ms/step\n",
            "8/8 [==============================] - 0s 13ms/step\n",
            "8/8 [==============================] - 0s 20ms/step\n",
            "8/8 [==============================] - 0s 10ms/step\n",
            "8/8 [==============================] - 0s 18ms/step\n",
            "8/8 [==============================] - 0s 16ms/step\n",
            "8/8 [==============================] - 0s 15ms/step\n",
            "8/8 [==============================] - 0s 29ms/step\n",
            "8/8 [==============================] - 0s 15ms/step\n",
            "8/8 [==============================] - 0s 15ms/step\n",
            "8/8 [==============================] - 0s 19ms/step\n",
            "8/8 [==============================] - 0s 15ms/step\n",
            "8/8 [==============================] - 0s 16ms/step\n",
            "8/8 [==============================] - 0s 14ms/step\n",
            "8/8 [==============================] - 0s 13ms/step\n",
            "8/8 [==============================] - 0s 13ms/step\n",
            "8/8 [==============================] - 0s 15ms/step\n",
            "8/8 [==============================] - 0s 14ms/step\n",
            "8/8 [==============================] - 0s 11ms/step\n",
            "8/8 [==============================] - 0s 14ms/step\n",
            "8/8 [==============================] - 0s 13ms/step\n",
            "8/8 [==============================] - 0s 21ms/step\n",
            "8/8 [==============================] - 0s 11ms/step\n",
            "8/8 [==============================] - 0s 17ms/step\n",
            "8/8 [==============================] - 0s 14ms/step\n",
            "8/8 [==============================] - 0s 14ms/step\n",
            "8/8 [==============================] - 0s 12ms/step\n",
            "8/8 [==============================] - 0s 14ms/step\n",
            "8/8 [==============================] - 0s 12ms/step\n",
            "8/8 [==============================] - 0s 12ms/step\n",
            "8/8 [==============================] - 0s 14ms/step\n",
            "8/8 [==============================] - 0s 12ms/step\n",
            "8/8 [==============================] - 0s 13ms/step\n",
            "8/8 [==============================] - 0s 16ms/step\n",
            "8/8 [==============================] - 0s 11ms/step\n",
            "8/8 [==============================] - 0s 10ms/step\n",
            "8/8 [==============================] - 0s 20ms/step\n",
            "8/8 [==============================] - 0s 13ms/step\n",
            "8/8 [==============================] - 0s 12ms/step\n",
            "8/8 [==============================] - 0s 21ms/step\n",
            "8/8 [==============================] - 0s 10ms/step\n",
            "8/8 [==============================] - 0s 14ms/step\n",
            "8/8 [==============================] - 0s 12ms/step\n",
            "8/8 [==============================] - 0s 11ms/step\n",
            "8/8 [==============================] - 0s 15ms/step\n",
            "8/8 [==============================] - 0s 14ms/step\n",
            "8/8 [==============================] - 0s 14ms/step\n",
            "8/8 [==============================] - 0s 21ms/step\n",
            "8/8 [==============================] - 0s 15ms/step\n",
            "8/8 [==============================] - 0s 13ms/step\n",
            "8/8 [==============================] - 0s 13ms/step\n",
            "8/8 [==============================] - 0s 12ms/step\n",
            "8/8 [==============================] - 0s 14ms/step\n",
            "8/8 [==============================] - 0s 12ms/step\n",
            "8/8 [==============================] - 0s 18ms/step\n",
            "8/8 [==============================] - 0s 17ms/step\n",
            "8/8 [==============================] - 0s 15ms/step\n",
            "8/8 [==============================] - 0s 21ms/step\n",
            "8/8 [==============================] - 0s 19ms/step\n",
            "8/8 [==============================] - 0s 19ms/step\n",
            "8/8 [==============================] - 0s 14ms/step\n",
            "8/8 [==============================] - 0s 14ms/step\n",
            "8/8 [==============================] - 0s 13ms/step\n",
            "8/8 [==============================] - 0s 12ms/step\n",
            "8/8 [==============================] - 0s 13ms/step\n",
            "8/8 [==============================] - 0s 13ms/step\n",
            "8/8 [==============================] - 0s 12ms/step\n",
            "8/8 [==============================] - 0s 11ms/step\n",
            "8/8 [==============================] - 0s 11ms/step\n",
            "8/8 [==============================] - 0s 16ms/step\n",
            "8/8 [==============================] - 0s 13ms/step\n",
            "8/8 [==============================] - 0s 16ms/step\n",
            "8/8 [==============================] - 0s 11ms/step\n",
            "8/8 [==============================] - 0s 10ms/step\n",
            "8/8 [==============================] - 0s 12ms/step\n",
            "8/8 [==============================] - 0s 16ms/step\n",
            "8/8 [==============================] - 0s 12ms/step\n",
            "8/8 [==============================] - 0s 13ms/step\n",
            "8/8 [==============================] - 0s 13ms/step\n",
            "8/8 [==============================] - 0s 11ms/step\n",
            "8/8 [==============================] - 0s 14ms/step\n",
            "8/8 [==============================] - 0s 12ms/step\n",
            "8/8 [==============================] - 0s 11ms/step\n",
            "8/8 [==============================] - 0s 14ms/step\n",
            "8/8 [==============================] - 0s 13ms/step\n",
            "8/8 [==============================] - 0s 14ms/step\n",
            "8/8 [==============================] - 0s 15ms/step\n",
            "8/8 [==============================] - 0s 11ms/step\n",
            "8/8 [==============================] - 0s 12ms/step\n",
            "8/8 [==============================] - 0s 15ms/step\n",
            "8/8 [==============================] - 0s 14ms/step\n",
            "8/8 [==============================] - 0s 13ms/step\n",
            "8/8 [==============================] - 0s 13ms/step\n",
            "8/8 [==============================] - 0s 13ms/step\n",
            "8/8 [==============================] - 0s 14ms/step\n",
            "8/8 [==============================] - 0s 17ms/step\n",
            "8/8 [==============================] - 0s 14ms/step\n",
            "8/8 [==============================] - 0s 11ms/step\n",
            "8/8 [==============================] - 0s 13ms/step\n",
            "8/8 [==============================] - 0s 14ms/step\n",
            "8/8 [==============================] - 0s 12ms/step\n",
            "8/8 [==============================] - 0s 13ms/step\n",
            "8/8 [==============================] - 0s 17ms/step\n",
            "8/8 [==============================] - 0s 14ms/step\n",
            "8/8 [==============================] - 0s 19ms/step\n",
            "8/8 [==============================] - 0s 23ms/step\n",
            "8/8 [==============================] - 0s 33ms/step\n",
            "8/8 [==============================] - 0s 19ms/step\n",
            "8/8 [==============================] - 0s 22ms/step\n",
            "8/8 [==============================] - 0s 17ms/step\n",
            "8/8 [==============================] - 0s 12ms/step\n",
            "8/8 [==============================] - 0s 14ms/step\n",
            "8/8 [==============================] - 0s 13ms/step\n",
            "8/8 [==============================] - 0s 13ms/step\n",
            "8/8 [==============================] - 0s 14ms/step\n",
            "8/8 [==============================] - 0s 20ms/step\n",
            "8/8 [==============================] - 0s 12ms/step\n",
            "8/8 [==============================] - 0s 13ms/step\n",
            "8/8 [==============================] - 0s 13ms/step\n",
            "8/8 [==============================] - 0s 12ms/step\n",
            "8/8 [==============================] - 0s 19ms/step\n",
            "8/8 [==============================] - 0s 12ms/step\n",
            "8/8 [==============================] - 0s 12ms/step\n",
            "8/8 [==============================] - 0s 13ms/step\n",
            "8/8 [==============================] - 0s 13ms/step\n",
            "8/8 [==============================] - 0s 10ms/step\n",
            "8/8 [==============================] - 0s 13ms/step\n",
            "8/8 [==============================] - 0s 13ms/step\n",
            "8/8 [==============================] - 0s 11ms/step\n",
            "8/8 [==============================] - 0s 16ms/step\n",
            "8/8 [==============================] - 0s 14ms/step\n",
            "8/8 [==============================] - 0s 12ms/step\n",
            "8/8 [==============================] - 0s 11ms/step\n",
            "8/8 [==============================] - 0s 17ms/step\n",
            "8/8 [==============================] - 0s 13ms/step\n",
            "8/8 [==============================] - 0s 22ms/step\n",
            "8/8 [==============================] - 0s 15ms/step\n",
            "8/8 [==============================] - 0s 15ms/step\n",
            "8/8 [==============================] - 0s 14ms/step\n",
            "8/8 [==============================] - 0s 15ms/step\n",
            "8/8 [==============================] - 0s 13ms/step\n",
            "8/8 [==============================] - 0s 12ms/step\n",
            "8/8 [==============================] - 0s 11ms/step\n",
            "8/8 [==============================] - 0s 12ms/step\n",
            "8/8 [==============================] - 0s 15ms/step\n",
            "8/8 [==============================] - 0s 12ms/step\n",
            "8/8 [==============================] - 0s 13ms/step\n",
            "8/8 [==============================] - 0s 12ms/step\n",
            "8/8 [==============================] - 0s 11ms/step\n",
            "8/8 [==============================] - 0s 13ms/step\n",
            "8/8 [==============================] - 0s 18ms/step\n",
            "8/8 [==============================] - 0s 19ms/step\n",
            "8/8 [==============================] - 0s 18ms/step\n",
            "8/8 [==============================] - 0s 18ms/step\n",
            "8/8 [==============================] - 0s 19ms/step\n",
            "8/8 [==============================] - 0s 19ms/step\n",
            "8/8 [==============================] - 0s 17ms/step\n",
            "8/8 [==============================] - 0s 15ms/step\n",
            "8/8 [==============================] - 0s 19ms/step\n",
            "8/8 [==============================] - 0s 12ms/step\n",
            "8/8 [==============================] - 0s 13ms/step\n",
            "8/8 [==============================] - 0s 13ms/step\n",
            "8/8 [==============================] - 0s 13ms/step\n",
            "8/8 [==============================] - 0s 14ms/step\n",
            "8/8 [==============================] - 0s 12ms/step\n",
            "8/8 [==============================] - 0s 16ms/step\n",
            "8/8 [==============================] - 0s 12ms/step\n",
            "8/8 [==============================] - 0s 14ms/step\n",
            "8/8 [==============================] - 0s 18ms/step\n",
            "8/8 [==============================] - 0s 13ms/step\n",
            "8/8 [==============================] - 0s 14ms/step\n",
            "8/8 [==============================] - 0s 13ms/step\n",
            "8/8 [==============================] - 0s 23ms/step\n",
            "8/8 [==============================] - 0s 13ms/step\n",
            "8/8 [==============================] - 0s 14ms/step\n",
            "8/8 [==============================] - 0s 11ms/step\n",
            "8/8 [==============================] - 0s 11ms/step\n",
            "8/8 [==============================] - 0s 13ms/step\n",
            "8/8 [==============================] - 0s 14ms/step\n",
            "8/8 [==============================] - 0s 11ms/step\n",
            "8/8 [==============================] - 0s 17ms/step\n",
            "8/8 [==============================] - 0s 19ms/step\n",
            "8/8 [==============================] - 0s 14ms/step\n",
            "8/8 [==============================] - 0s 13ms/step\n",
            "8/8 [==============================] - 0s 12ms/step\n",
            "8/8 [==============================] - 0s 13ms/step\n",
            "8/8 [==============================] - 0s 13ms/step\n",
            "8/8 [==============================] - 0s 14ms/step\n",
            "8/8 [==============================] - 0s 13ms/step\n",
            "8/8 [==============================] - 0s 15ms/step\n",
            "8/8 [==============================] - 0s 15ms/step\n",
            "8/8 [==============================] - 0s 14ms/step\n",
            "8/8 [==============================] - 0s 13ms/step\n",
            "8/8 [==============================] - 0s 14ms/step\n",
            "8/8 [==============================] - 0s 14ms/step\n",
            "8/8 [==============================] - 0s 13ms/step\n",
            "8/8 [==============================] - 0s 14ms/step\n",
            "8/8 [==============================] - 0s 14ms/step\n",
            "8/8 [==============================] - 0s 13ms/step\n",
            "8/8 [==============================] - 0s 14ms/step\n",
            "8/8 [==============================] - 0s 14ms/step\n",
            "8/8 [==============================] - 0s 11ms/step\n",
            "8/8 [==============================] - 0s 13ms/step\n",
            "8/8 [==============================] - 0s 20ms/step\n",
            "8/8 [==============================] - 0s 16ms/step\n",
            "8/8 [==============================] - 0s 23ms/step\n",
            "8/8 [==============================] - 0s 20ms/step\n",
            "8/8 [==============================] - 0s 22ms/step\n",
            "8/8 [==============================] - 0s 19ms/step\n",
            "8/8 [==============================] - 0s 14ms/step\n",
            "8/8 [==============================] - 0s 15ms/step\n",
            "8/8 [==============================] - 0s 15ms/step\n",
            "8/8 [==============================] - 0s 14ms/step\n",
            "8/8 [==============================] - 0s 13ms/step\n",
            "8/8 [==============================] - 0s 20ms/step\n",
            "8/8 [==============================] - 0s 14ms/step\n",
            "8/8 [==============================] - 0s 13ms/step\n",
            "8/8 [==============================] - 0s 21ms/step\n",
            "8/8 [==============================] - 0s 13ms/step\n",
            "8/8 [==============================] - 0s 13ms/step\n",
            "8/8 [==============================] - 0s 14ms/step\n",
            "8/8 [==============================] - 0s 13ms/step\n",
            "8/8 [==============================] - 0s 14ms/step\n",
            "8/8 [==============================] - 0s 15ms/step\n",
            "8/8 [==============================] - 0s 15ms/step\n",
            "8/8 [==============================] - 0s 15ms/step\n",
            "8/8 [==============================] - 0s 16ms/step\n",
            "8/8 [==============================] - 0s 17ms/step\n",
            "8/8 [==============================] - 0s 12ms/step\n",
            "8/8 [==============================] - 0s 15ms/step\n",
            "8/8 [==============================] - 0s 17ms/step\n",
            "8/8 [==============================] - 0s 13ms/step\n",
            "8/8 [==============================] - 0s 13ms/step\n",
            "8/8 [==============================] - 0s 13ms/step\n",
            "8/8 [==============================] - 0s 15ms/step\n",
            "8/8 [==============================] - 0s 15ms/step\n",
            "8/8 [==============================] - 0s 16ms/step\n",
            "8/8 [==============================] - 0s 15ms/step\n",
            "8/8 [==============================] - 0s 15ms/step\n",
            "8/8 [==============================] - 0s 14ms/step\n",
            "8/8 [==============================] - 0s 15ms/step\n",
            "8/8 [==============================] - 0s 13ms/step\n",
            "8/8 [==============================] - 0s 14ms/step\n",
            "8/8 [==============================] - 0s 12ms/step\n",
            "8/8 [==============================] - 0s 19ms/step\n",
            "8/8 [==============================] - 0s 14ms/step\n",
            "8/8 [==============================] - 0s 12ms/step\n",
            "8/8 [==============================] - 0s 16ms/step\n",
            "8/8 [==============================] - 0s 12ms/step\n",
            "8/8 [==============================] - 0s 15ms/step\n",
            "8/8 [==============================] - 0s 12ms/step\n",
            "8/8 [==============================] - 0s 15ms/step\n",
            "8/8 [==============================] - 0s 13ms/step\n",
            "8/8 [==============================] - 0s 17ms/step\n",
            "8/8 [==============================] - 0s 28ms/step\n",
            "8/8 [==============================] - 0s 22ms/step\n",
            "8/8 [==============================] - 0s 14ms/step\n",
            "8/8 [==============================] - 0s 17ms/step\n",
            "8/8 [==============================] - 0s 17ms/step\n",
            "8/8 [==============================] - 0s 15ms/step\n",
            "8/8 [==============================] - 0s 14ms/step\n",
            "8/8 [==============================] - 0s 14ms/step\n",
            "8/8 [==============================] - 0s 15ms/step\n",
            "8/8 [==============================] - 0s 15ms/step\n",
            "8/8 [==============================] - 0s 14ms/step\n",
            "8/8 [==============================] - 0s 15ms/step\n",
            "8/8 [==============================] - 0s 12ms/step\n",
            "8/8 [==============================] - 0s 15ms/step\n",
            "8/8 [==============================] - 0s 13ms/step\n",
            "8/8 [==============================] - 0s 15ms/step\n",
            "8/8 [==============================] - 0s 12ms/step\n",
            "8/8 [==============================] - 0s 21ms/step\n",
            "8/8 [==============================] - 0s 29ms/step\n",
            "8/8 [==============================] - 0s 15ms/step\n",
            "8/8 [==============================] - 0s 17ms/step\n",
            "8/8 [==============================] - 0s 15ms/step\n",
            "8/8 [==============================] - 0s 14ms/step\n",
            "8/8 [==============================] - 0s 17ms/step\n",
            "8/8 [==============================] - 0s 14ms/step\n",
            "8/8 [==============================] - 0s 17ms/step\n",
            "8/8 [==============================] - 0s 12ms/step\n",
            "8/8 [==============================] - 0s 13ms/step\n",
            "8/8 [==============================] - 0s 15ms/step\n",
            "8/8 [==============================] - 0s 13ms/step\n",
            "8/8 [==============================] - 0s 13ms/step\n",
            "8/8 [==============================] - 0s 13ms/step\n",
            "8/8 [==============================] - 0s 15ms/step\n",
            "8/8 [==============================] - 0s 16ms/step\n",
            "8/8 [==============================] - 0s 16ms/step\n",
            "8/8 [==============================] - 0s 20ms/step\n",
            "8/8 [==============================] - 0s 16ms/step\n",
            "8/8 [==============================] - 0s 11ms/step\n",
            "8/8 [==============================] - 0s 13ms/step\n",
            "8/8 [==============================] - 0s 17ms/step\n",
            "8/8 [==============================] - 0s 14ms/step\n",
            "8/8 [==============================] - 0s 15ms/step\n",
            "8/8 [==============================] - 0s 14ms/step\n",
            "8/8 [==============================] - 0s 16ms/step\n",
            "8/8 [==============================] - 0s 14ms/step\n",
            "8/8 [==============================] - 0s 18ms/step\n",
            "8/8 [==============================] - 0s 25ms/step\n",
            "8/8 [==============================] - 0s 20ms/step\n",
            "8/8 [==============================] - 0s 23ms/step\n",
            "8/8 [==============================] - 0s 24ms/step\n",
            "8/8 [==============================] - 0s 25ms/step\n",
            "8/8 [==============================] - 0s 22ms/step\n",
            "8/8 [==============================] - 0s 24ms/step\n",
            "8/8 [==============================] - 0s 19ms/step\n",
            "8/8 [==============================] - 0s 23ms/step\n",
            "8/8 [==============================] - 0s 22ms/step\n",
            "8/8 [==============================] - 0s 14ms/step\n",
            "8/8 [==============================] - 1s 15ms/step\n",
            "Train results:\n",
            "Mean square error: 0.13764\n",
            "Mean absolute error: 0.28762\n",
            "8/8 [==============================] - 0s 21ms/step\n",
            "8/8 [==============================] - 0s 14ms/step\n",
            "8/8 [==============================] - 0s 16ms/step\n",
            "8/8 [==============================] - 0s 15ms/step\n",
            "8/8 [==============================] - 0s 17ms/step\n",
            "8/8 [==============================] - 0s 12ms/step\n",
            "8/8 [==============================] - 0s 14ms/step\n",
            "8/8 [==============================] - 0s 12ms/step\n",
            "8/8 [==============================] - 0s 16ms/step\n",
            "8/8 [==============================] - 0s 13ms/step\n",
            "8/8 [==============================] - 0s 11ms/step\n",
            "8/8 [==============================] - 0s 12ms/step\n",
            "8/8 [==============================] - 0s 18ms/step\n",
            "8/8 [==============================] - 0s 13ms/step\n",
            "8/8 [==============================] - 0s 14ms/step\n",
            "8/8 [==============================] - 0s 13ms/step\n",
            "8/8 [==============================] - 0s 18ms/step\n",
            "8/8 [==============================] - 0s 14ms/step\n",
            "8/8 [==============================] - 0s 14ms/step\n",
            "8/8 [==============================] - 0s 14ms/step\n",
            "8/8 [==============================] - 0s 11ms/step\n",
            "8/8 [==============================] - 0s 14ms/step\n",
            "8/8 [==============================] - 0s 12ms/step\n",
            "8/8 [==============================] - 0s 12ms/step\n",
            "8/8 [==============================] - 0s 14ms/step\n",
            "8/8 [==============================] - 0s 21ms/step\n",
            "8/8 [==============================] - 0s 13ms/step\n",
            "8/8 [==============================] - 0s 13ms/step\n",
            "8/8 [==============================] - 0s 14ms/step\n",
            "8/8 [==============================] - 0s 14ms/step\n",
            "8/8 [==============================] - 0s 12ms/step\n",
            "8/8 [==============================] - 0s 12ms/step\n",
            "8/8 [==============================] - 0s 16ms/step\n",
            "8/8 [==============================] - 0s 17ms/step\n",
            "8/8 [==============================] - 0s 12ms/step\n",
            "8/8 [==============================] - 0s 14ms/step\n",
            "8/8 [==============================] - 0s 14ms/step\n",
            "8/8 [==============================] - 0s 15ms/step\n",
            "8/8 [==============================] - 0s 20ms/step\n",
            "8/8 [==============================] - 0s 25ms/step\n",
            "8/8 [==============================] - 0s 17ms/step\n",
            "8/8 [==============================] - 0s 25ms/step\n",
            "8/8 [==============================] - 0s 18ms/step\n",
            "8/8 [==============================] - 0s 22ms/step\n",
            "8/8 [==============================] - 0s 22ms/step\n",
            "8/8 [==============================] - 0s 11ms/step\n",
            "8/8 [==============================] - 0s 18ms/step\n",
            "8/8 [==============================] - 0s 27ms/step\n",
            "8/8 [==============================] - 0s 23ms/step\n",
            "8/8 [==============================] - 0s 14ms/step\n",
            "8/8 [==============================] - 0s 21ms/step\n",
            "8/8 [==============================] - 0s 18ms/step\n",
            "8/8 [==============================] - 0s 16ms/step\n",
            "8/8 [==============================] - 0s 13ms/step\n",
            "8/8 [==============================] - 0s 15ms/step\n",
            "8/8 [==============================] - 0s 17ms/step\n",
            "8/8 [==============================] - 0s 13ms/step\n",
            "8/8 [==============================] - 0s 17ms/step\n",
            "8/8 [==============================] - 0s 15ms/step\n",
            "8/8 [==============================] - 0s 18ms/step\n",
            "8/8 [==============================] - 0s 15ms/step\n",
            "8/8 [==============================] - 0s 15ms/step\n",
            "8/8 [==============================] - 0s 12ms/step\n",
            "8/8 [==============================] - 0s 15ms/step\n",
            "8/8 [==============================] - 0s 20ms/step\n",
            "8/8 [==============================] - 0s 15ms/step\n",
            "8/8 [==============================] - 0s 18ms/step\n",
            "8/8 [==============================] - 0s 13ms/step\n",
            "8/8 [==============================] - 0s 15ms/step\n",
            "8/8 [==============================] - 0s 24ms/step\n",
            "8/8 [==============================] - 0s 29ms/step\n",
            "8/8 [==============================] - 0s 12ms/step\n",
            "8/8 [==============================] - 0s 14ms/step\n",
            "8/8 [==============================] - 0s 14ms/step\n",
            "8/8 [==============================] - 0s 12ms/step\n",
            "8/8 [==============================] - 0s 16ms/step\n",
            "8/8 [==============================] - 0s 15ms/step\n",
            "8/8 [==============================] - 0s 18ms/step\n",
            "8/8 [==============================] - 0s 20ms/step\n",
            "8/8 [==============================] - 0s 27ms/step\n",
            "8/8 [==============================] - 0s 17ms/step\n",
            "8/8 [==============================] - 0s 21ms/step\n",
            "8/8 [==============================] - 0s 19ms/step\n",
            "8/8 [==============================] - 0s 16ms/step\n",
            "8/8 [==============================] - 0s 13ms/step\n",
            "8/8 [==============================] - 0s 13ms/step\n",
            "8/8 [==============================] - 0s 14ms/step\n",
            "8/8 [==============================] - 0s 13ms/step\n",
            "8/8 [==============================] - 0s 14ms/step\n",
            "8/8 [==============================] - 0s 14ms/step\n",
            "8/8 [==============================] - 0s 14ms/step\n",
            "8/8 [==============================] - 0s 13ms/step\n",
            "8/8 [==============================] - 0s 15ms/step\n",
            "8/8 [==============================] - 0s 16ms/step\n",
            "8/8 [==============================] - 0s 14ms/step\n",
            "8/8 [==============================] - 0s 15ms/step\n",
            "8/8 [==============================] - 0s 15ms/step\n",
            "8/8 [==============================] - 0s 14ms/step\n",
            "8/8 [==============================] - 0s 12ms/step\n",
            "8/8 [==============================] - 0s 12ms/step\n",
            "8/8 [==============================] - 0s 18ms/step\n",
            "8/8 [==============================] - 0s 19ms/step\n",
            "8/8 [==============================] - 0s 15ms/step\n",
            "8/8 [==============================] - 0s 12ms/step\n",
            "8/8 [==============================] - 0s 12ms/step\n",
            "8/8 [==============================] - 0s 12ms/step\n",
            "8/8 [==============================] - 0s 12ms/step\n",
            "8/8 [==============================] - 0s 12ms/step\n",
            "8/8 [==============================] - 0s 13ms/step\n",
            "8/8 [==============================] - 0s 16ms/step\n",
            "8/8 [==============================] - 0s 12ms/step\n",
            "8/8 [==============================] - 0s 14ms/step\n",
            "8/8 [==============================] - 0s 16ms/step\n",
            "8/8 [==============================] - 0s 12ms/step\n",
            "8/8 [==============================] - 0s 14ms/step\n",
            "8/8 [==============================] - 0s 13ms/step\n",
            "8/8 [==============================] - 0s 13ms/step\n",
            "8/8 [==============================] - 0s 13ms/step\n",
            "8/8 [==============================] - 0s 19ms/step\n",
            "8/8 [==============================] - 0s 13ms/step\n",
            "8/8 [==============================] - 0s 12ms/step\n",
            "8/8 [==============================] - 0s 13ms/step\n",
            "8/8 [==============================] - 0s 16ms/step\n",
            "8/8 [==============================] - 0s 13ms/step\n",
            "8/8 [==============================] - 0s 13ms/step\n",
            "8/8 [==============================] - 0s 19ms/step\n",
            "8/8 [==============================] - 0s 17ms/step\n",
            "8/8 [==============================] - 0s 18ms/step\n",
            "8/8 [==============================] - 0s 18ms/step\n",
            "8/8 [==============================] - 0s 23ms/step\n",
            "8/8 [==============================] - 0s 19ms/step\n",
            "8/8 [==============================] - 0s 18ms/step\n",
            "8/8 [==============================] - 0s 18ms/step\n",
            "8/8 [==============================] - 0s 21ms/step\n",
            "8/8 [==============================] - 0s 12ms/step\n",
            "8/8 [==============================] - 0s 19ms/step\n",
            "8/8 [==============================] - 0s 14ms/step\n",
            "8/8 [==============================] - 0s 15ms/step\n",
            "8/8 [==============================] - 0s 15ms/step\n",
            "8/8 [==============================] - 0s 14ms/step\n",
            "8/8 [==============================] - 0s 14ms/step\n",
            "8/8 [==============================] - 0s 14ms/step\n",
            "8/8 [==============================] - 0s 13ms/step\n",
            "8/8 [==============================] - 0s 17ms/step\n",
            "8/8 [==============================] - 0s 12ms/step\n",
            "8/8 [==============================] - 0s 17ms/step\n",
            "8/8 [==============================] - 0s 15ms/step\n",
            "8/8 [==============================] - 0s 13ms/step\n",
            "8/8 [==============================] - 0s 12ms/step\n",
            "8/8 [==============================] - 0s 12ms/step\n",
            "8/8 [==============================] - 0s 15ms/step\n",
            "8/8 [==============================] - 0s 11ms/step\n",
            "8/8 [==============================] - 0s 14ms/step\n",
            "8/8 [==============================] - 0s 23ms/step\n",
            "8/8 [==============================] - 0s 16ms/step\n",
            "8/8 [==============================] - 0s 13ms/step\n",
            "8/8 [==============================] - 0s 20ms/step\n",
            "8/8 [==============================] - 0s 14ms/step\n",
            "8/8 [==============================] - 0s 15ms/step\n",
            "8/8 [==============================] - 0s 14ms/step\n",
            "8/8 [==============================] - 0s 13ms/step\n",
            "8/8 [==============================] - 0s 16ms/step\n",
            "8/8 [==============================] - 0s 12ms/step\n",
            "8/8 [==============================] - 0s 12ms/step\n",
            "8/8 [==============================] - 0s 16ms/step\n",
            "8/8 [==============================] - 0s 16ms/step\n",
            "8/8 [==============================] - 0s 14ms/step\n",
            "8/8 [==============================] - 0s 12ms/step\n",
            "8/8 [==============================] - 0s 12ms/step\n",
            "8/8 [==============================] - 0s 12ms/step\n",
            "8/8 [==============================] - 0s 15ms/step\n",
            "8/8 [==============================] - 0s 16ms/step\n",
            "8/8 [==============================] - 0s 16ms/step\n",
            "8/8 [==============================] - 0s 21ms/step\n",
            "8/8 [==============================] - 0s 18ms/step\n",
            "8/8 [==============================] - 0s 16ms/step\n",
            "8/8 [==============================] - 0s 19ms/step\n",
            "8/8 [==============================] - 0s 18ms/step\n",
            "8/8 [==============================] - 0s 17ms/step\n",
            "8/8 [==============================] - 0s 21ms/step\n",
            "8/8 [==============================] - 0s 18ms/step\n",
            "8/8 [==============================] - 0s 15ms/step\n",
            "8/8 [==============================] - 0s 12ms/step\n",
            "8/8 [==============================] - 0s 13ms/step\n",
            "8/8 [==============================] - 0s 27ms/step\n",
            "8/8 [==============================] - 0s 24ms/step\n",
            "8/8 [==============================] - 0s 15ms/step\n",
            "8/8 [==============================] - 0s 13ms/step\n",
            "8/8 [==============================] - 0s 16ms/step\n",
            "8/8 [==============================] - 0s 14ms/step\n",
            "8/8 [==============================] - 0s 17ms/step\n",
            "2/2 [==============================] - 0s 21ms/step\n",
            "Val results:\n",
            "Mean square error: 0.14098\n",
            "Mean absolute error: 0.29142\n"
          ]
        }
      ]
    },
    {
      "cell_type": "code",
      "source": [
        "model_1.save('model_1.keras')"
      ],
      "metadata": {
        "id": "fc4iolLubAdF"
      },
      "execution_count": 55,
      "outputs": []
    },
    {
      "cell_type": "markdown",
      "metadata": {
        "id": "t5Gu07De2taG"
      },
      "source": [
        "### Bonus part: explaining model predictions\n",
        "\n",
        "It's usually a good idea to understand how your model works before you let it make actual decisions. It's simple for linear models: just see which words learned positive or negative weights. However, its much harder for neural networks that learn complex nonlinear dependencies.\n",
        "\n",
        "There are, however, some ways to look inside the black box:\n",
        "* Seeing how model responds to input perturbations\n",
        "* Finding inputs that maximize/minimize activation of some chosen neurons (_read more [on distill.pub](https://distill.pub/2018/building-blocks/)_)\n",
        "* Building local linear approximations to your neural network: [article](https://arxiv.org/abs/1602.04938), [eli5 library](https://github.com/TeamHG-Memex/eli5/tree/master/eli5/formatters)\n",
        "\n",
        "Today we gonna try the first method just because it's the simplest one."
      ]
    },
    {
      "cell_type": "code",
      "execution_count": 50,
      "metadata": {
        "id": "q4EmiR4s2taG"
      },
      "outputs": [],
      "source": [
        "def explain(model, sample, col_name='Title'):\n",
        "    \"\"\" Computes the effect each word had on model predictions \"\"\"\n",
        "    sample = dict(sample)\n",
        "    sample_col_tokens = [tokens[token_to_id.get(tok, 0)] for tok in sample[col_name].split()]\n",
        "    data_drop_one_token = pd.DataFrame([sample] * (len(sample_col_tokens) + 1))\n",
        "\n",
        "    for drop_i in range(len(sample_col_tokens)):\n",
        "        data_drop_one_token.loc[drop_i, col_name] = ' '.join(UNK if i == drop_i else tok\n",
        "                                                   for i, tok in enumerate(sample_col_tokens))\n",
        "\n",
        "    *predictions_drop_one_token, baseline_pred = model.predict(make_batch(data_drop_one_token))[:, 0]\n",
        "    diffs = baseline_pred - predictions_drop_one_token\n",
        "    return list(zip(sample_col_tokens, diffs))"
      ]
    },
    {
      "cell_type": "code",
      "execution_count": 51,
      "metadata": {
        "id": "7DVhOoZq2taH"
      },
      "outputs": [],
      "source": [
        "from IPython.display import HTML, display_html\n",
        "\n",
        "def draw_html(tokens_and_weights, cmap=plt.get_cmap(\"bwr\"), display=True,\n",
        "              token_template=\"\"\"<span style=\"background-color: {color_hex}\">{token}</span>\"\"\",\n",
        "              font_style=\"font-size:14px;\"\n",
        "             ):\n",
        "\n",
        "    def get_color_hex(weight):\n",
        "        rgba = cmap(1. / (1 + np.exp(weight)), bytes=True)\n",
        "        return '#%02X%02X%02X' % rgba[:3]\n",
        "\n",
        "    tokens_html = [\n",
        "        token_template.format(token=token, color_hex=get_color_hex(weight))\n",
        "        for token, weight in tokens_and_weights\n",
        "    ]\n",
        "\n",
        "\n",
        "    raw_html = \"\"\"<p style=\"{}\">{}</p>\"\"\".format(font_style, ' '.join(tokens_html))\n",
        "    if display:\n",
        "        display_html(HTML(raw_html))\n",
        "\n",
        "    return raw_html\n",
        ""
      ]
    },
    {
      "cell_type": "code",
      "execution_count": 52,
      "metadata": {
        "colab": {
          "base_uri": "https://localhost:8080/",
          "height": 257
        },
        "id": "ll905iKF2taI",
        "outputId": "ad716b78-3564-4bdd-825e-8e5deee9f85c"
      },
      "outputs": [
        {
          "output_type": "stream",
          "name": "stderr",
          "text": [
            "/usr/local/lib/python3.10/dist-packages/keras/engine/functional.py:639: UserWarning: Input dict contained keys ['Log1pSalary'] which did not match any model input. They will be ignored by the model.\n",
            "  inputs = self._flatten_to_reference_inputs(inputs)\n"
          ]
        },
        {
          "output_type": "stream",
          "name": "stdout",
          "text": [
            "1/1 [==============================] - 1s 779ms/step\n"
          ]
        },
        {
          "output_type": "display_data",
          "data": {
            "text/html": [
              "<p style=\"font-size:20px;\"><span style=\"background-color: #FEFEFF\">sales</span> <span style=\"background-color: #F6F6FF\">specialist</span> <span style=\"background-color: #F8F8FF\">iv</span> <span style=\"background-color: #F8F8FF\">access</span> <span style=\"background-color: #F8F8FF\">and</span> <span style=\"background-color: #ECECFF\">infusion</span></p>"
            ]
          },
          "metadata": {}
        },
        {
          "output_type": "stream",
          "name": "stdout",
          "text": [
            "11/11 [==============================] - 0s 10ms/step\n"
          ]
        },
        {
          "output_type": "display_data",
          "data": {
            "text/html": [
              "<p style=\"font-size:14px;\"><span style=\"background-color: #FFFAFA\">sales</span> <span style=\"background-color: #FF3636\">representative</span> <span style=\"background-color: #FF2C2C\">medical</span> <span style=\"background-color: #FF2C2C\">sales</span> <span style=\"background-color: #FF2929\">iv</span> <span style=\"background-color: #FF2929\">access</span> <span style=\"background-color: #FF2929\">and</span> <span style=\"background-color: #FF2929\">infusion</span> <span style=\"background-color: #FF2929\">an</span> <span style=\"background-color: #FF2929\">opportunity</span> <span style=\"background-color: #FF2929\">to</span> <span style=\"background-color: #FF2929\">work</span> <span style=\"background-color: #FF2929\">for</span> <span style=\"background-color: #FF2929\">the</span> <span style=\"background-color: #FF2929\">industry</span> <span style=\"background-color: #FF2929\">leading</span> <span style=\"background-color: #FF2929\">manufacturer</span> <span style=\"background-color: #FF2929\">of</span> <span style=\"background-color: #FF2929\">iv</span> <span style=\"background-color: #FF2929\">access</span> <span style=\"background-color: #FF2929\">and</span> <span style=\"background-color: #FF2929\">infusion</span> <span style=\"background-color: #FF2C2C\">solutions</span> <span style=\"background-color: #FF2828\">.</span> <span style=\"background-color: #FF2929\">formally</span> <span style=\"background-color: #FF2929\">recognised</span> <span style=\"background-color: #FF2929\">as</span> <span style=\"background-color: #FF2929\">the</span> <span style=\"background-color: #FF3434\">number</span> <span style=\"background-color: #FF2828\">****</span> <span style=\"background-color: #FF2C2C\">company</span> <span style=\"background-color: #FF2929\">in</span> <span style=\"background-color: #FF2929\">this</span> <span style=\"background-color: #FF2929\">market</span> <span style=\"background-color: #FF2C2C\">space</span> <span style=\"background-color: #FF2626\">,</span> <span style=\"background-color: #FF2929\">our</span> <span style=\"background-color: #FF2929\">client</span> <span style=\"background-color: #FF2929\">are</span> <span style=\"background-color: #FF2929\">an</span> <span style=\"background-color: #FF2929\">ethical</span> <span style=\"background-color: #FF2929\">and</span> <span style=\"background-color: #FF2929\">dynamic</span> <span style=\"background-color: #FF2929\">organisation</span> <span style=\"background-color: #FF2929\">absolutely</span> <span style=\"background-color: #FF2929\">committed</span> <span style=\"background-color: #FF2929\">to</span> <span style=\"background-color: #FF2929\">the</span> <span style=\"background-color: #FF2929\">advancement</span> <span style=\"background-color: #FF2929\">of</span> <span style=\"background-color: #FF2929\">innovative</span> <span style=\"background-color: #FF2929\">technologies</span> <span style=\"background-color: #FF2626\">.</span> <span style=\"background-color: #FF2929\">job</span> <span style=\"background-color: #FF2828\">title</span> <span style=\"background-color: #FF2828\">:</span> <span style=\"background-color: #FF2828\">sales</span> <span style=\"background-color: #FF2828\">specialist</span> <span style=\"background-color: #FF2828\">iv</span> <span style=\"background-color: #FF2828\">access</span> <span style=\"background-color: #FF2828\">and</span> <span style=\"background-color: #FF2828\">infusion</span> <span style=\"background-color: #FF2828\">selling</span> <span style=\"background-color: #FF2828\">:</span> <span style=\"background-color: #FF2828\">medication</span> <span style=\"background-color: #FF2828\">delivery</span> <span style=\"background-color: #FF2828\">solutions</span> <span style=\"background-color: #FF2828\">selling</span> <span style=\"background-color: #FF2828\">to</span> <span style=\"background-color: #FF2828\">:</span> <span style=\"background-color: #FF2828\">iv</span> <span style=\"background-color: #FF2929\">teams</span> <span style=\"background-color: #FF2424\">,</span> <span style=\"background-color: #FF2828\">infection</span> <span style=\"background-color: #FF2828\">control</span> <span style=\"background-color: #FF2424\">,</span> <span style=\"background-color: #FF2828\">lead</span> <span style=\"background-color: #FF2828\">intensive</span> <span style=\"background-color: #FF2828\">care</span> <span style=\"background-color: #FF2828\">nurse</span> <span style=\"background-color: #FF2828\">specialists</span> <span style=\"background-color: #FF2424\">,</span> <span style=\"background-color: #FF2626\">ward</span> <span style=\"background-color: #FF2626\">managers</span> <span style=\"background-color: #FF2626\">territory</span> <span style=\"background-color: #FF2626\">:</span> <span style=\"background-color: #FF2626\">east</span> <span style=\"background-color: #FF2626\">midlands</span> <span style=\"background-color: #FF2626\">location</span> <span style=\"background-color: #FF2626\">:</span> <span style=\"background-color: #FF2626\">east</span> <span style=\"background-color: #FF2626\">midlands</span> <span style=\"background-color: #FF2626\">package</span> <span style=\"background-color: #FF2626\">:</span> <span style=\"background-color: #FF2626\">basic</span> <span style=\"background-color: #FF3030\">:</span> <span style=\"background-color: #FF2424\">****</span> <span style=\"background-color: #FF3131\">k</span> <span style=\"background-color: #FF2626\">****</span> <span style=\"background-color: #FF2929\">k</span> <span style=\"background-color: #FF2424\">,</span> <span style=\"background-color: #FF2828\">uncapped</span> <span style=\"background-color: #FF2828\">bonus</span> <span style=\"background-color: #FF2828\">in</span> <span style=\"background-color: #FF2828\">addition</span> <span style=\"background-color: #FF2424\">,</span> <span style=\"background-color: #FF2626\">full</span> <span style=\"background-color: #FF2626\">corporate</span> <span style=\"background-color: #FF2626\">benefits</span> <span style=\"background-color: #FF2626\">company</span> <span style=\"background-color: #FF2626\">information</span> <span style=\"background-color: #FF2626\">hugely</span> <span style=\"background-color: #FF2626\">ethical</span> <span style=\"background-color: #FF2626\">and</span> <span style=\"background-color: #FF2626\">professional</span> <span style=\"background-color: #FF2626\">global</span> <span style=\"background-color: #FF2626\">organisation</span> <span style=\"background-color: #FF2626\">extremely</span> <span style=\"background-color: #FF2626\">well</span> <span style=\"background-color: #FF2626\">established</span> <span style=\"background-color: #FF2626\">in</span> <span style=\"background-color: #FF2626\">the</span> <span style=\"background-color: #FF2626\">uk</span> <span style=\"background-color: #FF2626\">the</span> <span style=\"background-color: #FF2626\">market</span> <span style=\"background-color: #FF2626\">leader</span> <span style=\"background-color: #FF2626\">across</span> <span style=\"background-color: #FF2626\">all</span> <span style=\"background-color: #FF2626\">of</span> <span style=\"background-color: #FF2626\">their</span> <span style=\"background-color: #FF2626\">core</span> <span style=\"background-color: #FF2626\">business</span> <span style=\"background-color: #FF2626\">areas</span> <span style=\"background-color: #FF2626\">focus</span> <span style=\"background-color: #FF2626\">on</span> <span style=\"background-color: #FF2626\">providing</span> <span style=\"background-color: #FF2626\">cutting</span> <span style=\"background-color: #FF2626\">edge</span> <span style=\"background-color: #FF2626\">solutions</span> <span style=\"background-color: #FF2626\">along</span> <span style=\"background-color: #FF2626\">with</span> <span style=\"background-color: #FF2626\">outstanding</span> <span style=\"background-color: #FF2626\">service</span> <span style=\"background-color: #FF2626\">and</span> <span style=\"background-color: #FF2626\">support</span> <span style=\"background-color: #FF2626\">a</span> <span style=\"background-color: #FF2626\">business</span> <span style=\"background-color: #FF2626\">that</span> <span style=\"background-color: #FF2626\">retain</span> <span style=\"background-color: #FF2626\">talented</span> <span style=\"background-color: #FF2626\">personnel</span> <span style=\"background-color: #FF2626\">by</span> <span style=\"background-color: #FF2626\">offering</span> <span style=\"background-color: #FF2626\">a</span> <span style=\"background-color: #FF2626\">strong</span> <span style=\"background-color: #FF2626\">platform</span> <span style=\"background-color: #FF2626\">for</span> <span style=\"background-color: #FF2626\">career</span> <span style=\"background-color: #FF2626\">development</span> <span style=\"background-color: #FF2626\">sales</span> <span style=\"background-color: #FF2626\">specialist</span> <span style=\"background-color: #FF2626\">iv</span> <span style=\"background-color: #FF2626\">access</span> <span style=\"background-color: #FF2626\">and</span> <span style=\"background-color: #FF2626\">infusion</span> <span style=\"background-color: #FF2626\">you</span> <span style=\"background-color: #FF2626\">must</span> <span style=\"background-color: #FF2626\">have</span> <span style=\"background-color: #FF2424\">/</span> <span style=\"background-color: #FF2626\">be</span> <span style=\"background-color: #FF2626\">the</span> <span style=\"background-color: #FF2626\">following</span> <span style=\"background-color: #FF2626\">at</span> <span style=\"background-color: #FF2626\">least</span> <span style=\"background-color: #FF2626\">2</span> <span style=\"background-color: #FF2626\">years</span> <span style=\"background-color: #FF2626\">medical</span> <span style=\"background-color: #FF2626\">device</span> <span style=\"background-color: #FF2626\">sales</span> <span style=\"background-color: #FF2626\">experience</span> <span style=\"background-color: #FF2424\">.</span> <span style=\"background-color: #FF2626\">candidates</span> <span style=\"background-color: #FF2626\">who</span> <span style=\"background-color: #FF2626\">have</span> <span style=\"background-color: #FF2626\">sold</span> <span style=\"background-color: #FF2626\">disposables</span> <span style=\"background-color: #FF2424\">/</span> <span style=\"background-color: #FF2626\">consumables</span> <span style=\"background-color: #FF2626\">or</span> <span style=\"background-color: #FF2626\">similar</span> <span style=\"background-color: #FF2626\">into</span> <span style=\"background-color: #FF2626\">hospitals</span> <span style=\"background-color: #FF2626\">would</span> <span style=\"background-color: #FF2626\">be</span> <span style=\"background-color: #FF2626\">of</span> <span style=\"background-color: #FF2626\">particular</span> <span style=\"background-color: #FF2626\">interest</span> <span style=\"background-color: #FF2121\">.</span> <span style=\"background-color: #FF2424\">candidates</span> <span style=\"background-color: #FF2424\">must</span> <span style=\"background-color: #FF2424\">have</span> <span style=\"background-color: #FF2424\">sold</span> <span style=\"background-color: #FF2424\">into</span> <span style=\"background-color: #FF2424\">hospitals</span> <span style=\"background-color: #FF2424\">demonstrable</span> <span style=\"background-color: #FF2424\">performance</span> <span style=\"background-color: #FF2424\">and</span> <span style=\"background-color: #FF2424\">achievements</span> <span style=\"background-color: #FF2424\">so</span> <span style=\"background-color: #FF2424\">far</span> <span style=\"background-color: #FF2626\">personable</span> <span style=\"background-color: #FF2121\">,</span> <span style=\"background-color: #FF2424\">adaptable</span> <span style=\"background-color: #FF2424\">and</span> <span style=\"background-color: #FF2424\">willing</span> <span style=\"background-color: #FF2424\">to</span> <span style=\"background-color: #FF2424\">learn</span> <span style=\"background-color: #FF2424\">keen</span> <span style=\"background-color: #FF2424\">and</span> <span style=\"background-color: #FF2424\">eager</span> <span style=\"background-color: #FF2424\">to</span> <span style=\"background-color: #FF2424\">be</span> <span style=\"background-color: #FF2424\">a</span> <span style=\"background-color: #FF2424\">success</span> <span style=\"background-color: #FF2424\">candidates</span> <span style=\"background-color: #FF2424\">must</span> <span style=\"background-color: #FF2424\">have</span> <span style=\"background-color: #FF2424\">a</span> <span style=\"background-color: #FF2424\">degree</span> <span style=\"background-color: #FF2424\">or</span> <span style=\"background-color: #FF2424\">at</span> <span style=\"background-color: #FF2424\">least</span> <span style=\"background-color: #FF2424\">be</span> <span style=\"background-color: #FF2424\">able</span> <span style=\"background-color: #FF2424\">to</span> <span style=\"background-color: #FF2424\">show</span> <span style=\"background-color: #FF2424\">a</span> <span style=\"background-color: #FF2424\">strong</span> <span style=\"background-color: #FF2424\">ability</span> <span style=\"background-color: #FF2424\">to</span> <span style=\"background-color: #FF2424\">learn</span> <span style=\"background-color: #FF2424\">role</span> <span style=\"background-color: #FF2424\">information</span> <span style=\"background-color: #FF2424\">managing</span> <span style=\"background-color: #FF2424\">the</span> <span style=\"background-color: #FF2424\">east</span> <span style=\"background-color: #FF2424\">midlands</span> <span style=\"background-color: #FF2424\">region</span> <span style=\"background-color: #FF2424\">selling</span> <span style=\"background-color: #FF2424\">across</span> <span style=\"background-color: #FF2424\">the</span> <span style=\"background-color: #FF3030\">company</span> <span style=\"background-color: #FF8E8E\">'</span> <span style=\"background-color: #FF2E2E\">s</span> <span style=\"background-color: #FF2626\">range</span> <span style=\"background-color: #FF2626\">of</span> <span style=\"background-color: #FF2626\">iv</span> <span style=\"background-color: #FF2626\">and</span> <span style=\"background-color: #FF2626\">infusion</span> <span style=\"background-color: #FF2626\">solutions</span> <span style=\"background-color: #FF2626\">portfolio</span> <span style=\"background-color: #FF2626\">selling</span> <span style=\"background-color: #FF2626\">into</span> <span style=\"background-color: #FF2626\">lead</span> <span style=\"background-color: #FF2626\">intensive</span> <span style=\"background-color: #FF2626\">care</span> <span style=\"background-color: #FF2626\">nurse</span> <span style=\"background-color: #FF2828\">specialists</span> <span style=\"background-color: #FF2121\">,</span> <span style=\"background-color: #FF2626\">ward</span> <span style=\"background-color: #FF2626\">managers</span> <span style=\"background-color: #FF2121\">,</span> <span style=\"background-color: #FF2626\">iv</span> <span style=\"background-color: #FF2626\">teams</span> <span style=\"background-color: #FF2121\">,</span> <span style=\"background-color: #FF2626\">infection</span> <span style=\"background-color: #FF2626\">control</span> <span style=\"background-color: #FF2626\">teams</span> <span style=\"background-color: #FF2121\">,</span> <span style=\"background-color: #FF2424\">procurement</span> <span style=\"background-color: #FF2424\">sales</span> <span style=\"background-color: #FF2424\">specialist</span> <span style=\"background-color: #FF2424\">iv</span> <span style=\"background-color: #FF2424\">access</span> <span style=\"background-color: #FF2424\">and</span> <span style=\"background-color: #FF2424\">infusion</span> <span style=\"background-color: #FF2424\">candidates</span> <span style=\"background-color: #FF2424\">must</span> <span style=\"background-color: #FF2424\">be</span> <span style=\"background-color: #FF2424\">eligible</span> <span style=\"background-color: #FF2424\">to</span> <span style=\"background-color: #FF2424\">work</span> <span style=\"background-color: #FF2424\">and</span> <span style=\"background-color: #FF2424\">live</span> <span style=\"background-color: #FF2424\">in</span> <span style=\"background-color: #FF2424\">the</span> <span style=\"background-color: #FF2424\">uk</span> <span style=\"background-color: #FF2121\">.</span> <span style=\"background-color: #FF2424\">please</span> <span style=\"background-color: #FF2424\">contact</span> <span style=\"background-color: #FF2424\">allan</span> <span style=\"background-color: #FF2424\">waller</span> <span style=\"background-color: #FF2C2C\">on</span> <span style=\"background-color: #FF2929\">****</span> <span style=\"background-color: #FF2C2C\">****</span> <span style=\"background-color: #FF2424\">****</span> <span style=\"background-color: #FF2626\">or</span> <span style=\"background-color: #FF2626\">please</span> <span style=\"background-color: #FF2626\">hit</span> <span style=\"background-color: #FF2626\">the</span> <span style=\"background-color: #FF2626\">apply</span> <span style=\"background-color: #FF2626\">button</span> <span style=\"background-color: #FF2121\">.</span> <span style=\"background-color: #FF2626\">this</span> <span style=\"background-color: #FF2424\">job</span> <span style=\"background-color: #FF2424\">was</span> <span style=\"background-color: #FF2424\">originally</span> <span style=\"background-color: #FF2424\">posted</span> <span style=\"background-color: #FF2424\">as</span> <span style=\"background-color: #FF2626\">www</span> <span style=\"background-color: #FF2121\">.</span> <span style=\"background-color: #FF2626\">salestarget</span> <span style=\"background-color: #FF2121\">.</span> <span style=\"background-color: #FF2424\">co</span> <span style=\"background-color: #FF2020\">.</span> <span style=\"background-color: #FF2424\">uk</span> <span style=\"background-color: #FF2121\">/</span> <span style=\"background-color: #FF2121\">jobseeking</span> <span style=\"background-color: #FF2424\">/</span> <span style=\"background-color: #FFFEFE\">UNK</span> <span style=\"background-color: #7474FF\">****</span></p>"
            ]
          },
          "metadata": {}
        }
      ],
      "source": [
        "i = 36605\n",
        "tokens_and_weights = explain(model_1, data.loc[i], \"Title\")\n",
        "draw_html([(tok, weight * 5) for tok, weight in tokens_and_weights], font_style='font-size:20px;');\n",
        "\n",
        "tokens_and_weights = explain(model_1, data.loc[i], \"FullDescription\")\n",
        "draw_html([(tok, weight * 10) for tok, weight in tokens_and_weights]);"
      ]
    },
    {
      "cell_type": "code",
      "execution_count": 53,
      "metadata": {
        "colab": {
          "base_uri": "https://localhost:8080/",
          "height": 170
        },
        "id": "r9cSpotA2taI",
        "outputId": "2682c2dc-455b-4b02-b216-538c1f80fc16"
      },
      "outputs": [
        {
          "output_type": "stream",
          "name": "stderr",
          "text": [
            "/usr/local/lib/python3.10/dist-packages/keras/engine/functional.py:639: UserWarning: Input dict contained keys ['Log1pSalary'] which did not match any model input. They will be ignored by the model.\n",
            "  inputs = self._flatten_to_reference_inputs(inputs)\n"
          ]
        },
        {
          "output_type": "stream",
          "name": "stdout",
          "text": [
            "1/1 [==============================] - 1s 746ms/step\n"
          ]
        },
        {
          "output_type": "display_data",
          "data": {
            "text/html": [
              "<p style=\"font-size:20px;\"><span style=\"background-color: #F3F3FF\">cleaning</span> <span style=\"background-color: #D6D6FF\">operative</span></p>"
            ]
          },
          "metadata": {}
        },
        {
          "output_type": "stream",
          "name": "stdout",
          "text": [
            "3/3 [==============================] - 0s 5ms/step\n"
          ]
        },
        {
          "output_type": "display_data",
          "data": {
            "text/html": [
              "<p style=\"font-size:14px;\"><span style=\"background-color: #FFFEFE\">12</span> <span style=\"background-color: #FFB6B6\">.</span> <span style=\"background-color: #FFB0B0\">5</span> <span style=\"background-color: #FFAEAE\">hours</span> <span style=\"background-color: #FFAEAE\">per</span> <span style=\"background-color: #FFAEAE\">week</span> <span style=\"background-color: #FFAEAE\">monday</span> <span style=\"background-color: #FFAEAE\">friday</span> <span style=\"background-color: #FFAEAE\">9am</span> <span style=\"background-color: #FFAEAE\">11</span> <span style=\"background-color: #FFAEAE\">.</span> <span style=\"background-color: #FFAEAE\">30am</span> <span style=\"background-color: #FFAEAE\">duties</span> <span style=\"background-color: #FFAEAE\">to</span> <span style=\"background-color: #FFAEAE\">include</span> <span style=\"background-color: #FFAEAE\">sweeping</span> <span style=\"background-color: #FFAEAE\">,</span> <span style=\"background-color: #FFAEAE\">mopping</span> <span style=\"background-color: #FFAEAE\">,</span> <span style=\"background-color: #FFAEAE\">vacuuming</span> <span style=\"background-color: #FFAEAE\">,</span> <span style=\"background-color: #FFAEAE\">buffing</span> <span style=\"background-color: #FFAEAE\">,</span> <span style=\"background-color: #FFAEAE\">cleaning</span> <span style=\"background-color: #FFAEAE\">staff</span> <span style=\"background-color: #FFAEAE\">toilets</span> <span style=\"background-color: #FFAEAE\">and</span> <span style=\"background-color: #FFAEAE\">rest</span> <span style=\"background-color: #FFAEAE\">room</span> <span style=\"background-color: #FFAEAE\">.</span> <span style=\"background-color: #FFAEAE\">must</span> <span style=\"background-color: #FFAEAE\">be</span> <span style=\"background-color: #FFAEAE\">able</span> <span style=\"background-color: #FFAEAE\">to</span> <span style=\"background-color: #FFAEAE\">read</span> <span style=\"background-color: #FFAEAE\">as</span> <span style=\"background-color: #FFAEAE\">they</span> <span style=\"background-color: #FFAEAE\">will</span> <span style=\"background-color: #FFAEAE\">be</span> <span style=\"background-color: #FFC2C2\">using</span> <span style=\"background-color: #FFFEFE\">UNK</span> <span style=\"background-color: #FFC2C2\">which</span> <span style=\"background-color: #FFCCCC\">need</span> <span style=\"background-color: #FFFEFE\">UNK</span> <span style=\"background-color: #FFCCCC\">as</span> <span style=\"background-color: #FFAEAE\">per</span> <span style=\"background-color: #FFAEAE\">instructions</span> <span style=\"background-color: #FFAEAE\">on</span> <span style=\"background-color: #FFAEAE\">the</span> <span style=\"background-color: #FFAEAE\">containers</span> <span style=\"background-color: #FFAEAE\">.</span> <span style=\"background-color: #FFAEAE\">sucessfull</span> <span style=\"background-color: #FFAEAE\">applicants</span> <span style=\"background-color: #FFAEAE\">will</span> <span style=\"background-color: #FFAEAE\">be</span> <span style=\"background-color: #FFAEAE\">trained</span> <span style=\"background-color: #FFAEAE\">on</span> <span style=\"background-color: #FFAEAE\">all</span> <span style=\"background-color: #FFAEAE\">electrical</span> <span style=\"background-color: #FFAEAE\">appliances</span> <span style=\"background-color: #FFDADA\">and</span> <span style=\"background-color: #FFFEFE\">UNK</span> <span style=\"background-color: #FFDADA\">of</span> <span style=\"background-color: #FFAEAE\">cleaning</span> <span style=\"background-color: #FFA8A8\">materials</span> <span style=\"background-color: #FFEAEA\">.</span></p>"
            ]
          },
          "metadata": {}
        }
      ],
      "source": [
        "i = 12077\n",
        "tokens_and_weights = explain(model_1, data.loc[i], \"Title\")\n",
        "draw_html([(tok, weight * 5) for tok, weight in tokens_and_weights], font_style='font-size:20px;');\n",
        "\n",
        "tokens_and_weights = explain(model_1, data.loc[i], \"FullDescription\")\n",
        "draw_html([(tok, weight * 10) for tok, weight in tokens_and_weights]);"
      ]
    },
    {
      "cell_type": "code",
      "execution_count": 54,
      "metadata": {
        "colab": {
          "base_uri": "https://localhost:8080/",
          "height": 222
        },
        "id": "3Fw47j3o2taJ",
        "outputId": "3ff7cd25-6ea6-43e9-a234-99fd967b2356"
      },
      "outputs": [
        {
          "output_type": "stream",
          "name": "stdout",
          "text": [
            "Index: 103928\n",
            "1/1 [==============================] - 0s 36ms/step\n",
            "Salary (gbp): 16953.28\n",
            "1/1 [==============================] - 0s 50ms/step\n"
          ]
        },
        {
          "output_type": "display_data",
          "data": {
            "text/html": [
              "<p style=\"font-size:20px;\"><span style=\"background-color: #FEFEFF\">social</span> <span style=\"background-color: #F6F6FF\">worker</span> <span style=\"background-color: #F8F8FF\">|</span> <span style=\"background-color: #F8F8FF\">looked</span> <span style=\"background-color: #F8F8FF\">after</span> <span style=\"background-color: #F8F8FF\">children</span> <span style=\"background-color: #F8F8FF\">|</span> <span style=\"background-color: #F8F8FF\">east</span> <span style=\"background-color: #ECECFF\">london</span></p>"
            ]
          },
          "metadata": {}
        },
        {
          "output_type": "stream",
          "name": "stdout",
          "text": [
            "5/5 [==============================] - 0s 8ms/step\n"
          ]
        },
        {
          "output_type": "display_data",
          "data": {
            "text/html": [
              "<p style=\"font-size:14px;\"><span style=\"background-color: #FFF6F6\">social</span> <span style=\"background-color: #FF0C0C\">worker</span> <span style=\"background-color: #FF0808\">|</span> <span style=\"background-color: #FF0808\">looked</span> <span style=\"background-color: #FF0808\">after</span> <span style=\"background-color: #FF0808\">children</span> <span style=\"background-color: #FF0808\">|</span> <span style=\"background-color: #FF0808\">east</span> <span style=\"background-color: #FF0808\">london</span> <span style=\"background-color: #FF0808\">currently</span> <span style=\"background-color: #FF0808\">seeking</span> <span style=\"background-color: #FF0808\">a</span> <span style=\"background-color: #FF0808\">qualified</span> <span style=\"background-color: #FF0808\">social</span> <span style=\"background-color: #FF0808\">worker</span> <span style=\"background-color: #FF0808\">looked</span> <span style=\"background-color: #FF0808\">after</span> <span style=\"background-color: #FF0808\">children</span> <span style=\"background-color: #FF0808\">s</span> <span style=\"background-color: #FF0808\">services</span> <span style=\"background-color: #FF0808\">in</span> <span style=\"background-color: #FF0808\">east</span> <span style=\"background-color: #FF0808\">london</span> <span style=\"background-color: #FF0606\">.</span> <span style=\"background-color: #FF0808\">the</span> <span style=\"background-color: #FF0808\">required</span> <span style=\"background-color: #FF0808\">criteria</span> <span style=\"background-color: #FF0808\">is</span> <span style=\"background-color: #FF0808\">2</span> <span style=\"background-color: #FF0808\">years</span> <span style=\"background-color: #FF0808\">post</span> <span style=\"background-color: #FF0808\">qualifying</span> <span style=\"background-color: #FF0808\">experience</span> <span style=\"background-color: #FF0808\">for</span> <span style=\"background-color: #FF0808\">qualified</span> <span style=\"background-color: #FF0808\">social</span> <span style=\"background-color: #FF0808\">worker</span> <span style=\"background-color: #FF0808\">looked</span> <span style=\"background-color: #FF0808\">after</span> <span style=\"background-color: #FF0808\">children</span> <span style=\"background-color: #FF0808\">s</span> <span style=\"background-color: #FF0808\">services</span> <span style=\"background-color: #FF0808\">east</span> <span style=\"background-color: #FF0808\">london</span> <span style=\"background-color: #FF0606\">.</span> <span style=\"background-color: #FF0606\">you</span> <span style=\"background-color: #FF0606\">will</span> <span style=\"background-color: #FF0606\">have</span> <span style=\"background-color: #FF0606\">experience</span> <span style=\"background-color: #FF0606\">of</span> <span style=\"background-color: #FF0606\">:</span> <span style=\"background-color: #FF0606\">care</span> <span style=\"background-color: #FF0606\">proceedings</span> <span style=\"background-color: #FF0606\">working</span> <span style=\"background-color: #FF0606\">with</span> <span style=\"background-color: #FF0606\">children</span> <span style=\"background-color: #FF0606\">in</span> <span style=\"background-color: #FF0606\">care</span> <span style=\"background-color: #FF0606\">court</span> <span style=\"background-color: #FF0606\">work</span> <span style=\"background-color: #FF0606\">and</span> <span style=\"background-color: #FF0606\">final</span> <span style=\"background-color: #FF0606\">evidence</span> <span style=\"background-color: #FF0606\">children</span> <span style=\"background-color: #FF0606\">to</span> <span style=\"background-color: #FF0606\">adoption</span> <span style=\"background-color: #FF0606\">advocate</span> <span style=\"background-color: #FF0606\">meetings</span> <span style=\"background-color: #FF0606\">looked</span> <span style=\"background-color: #FF0606\">after</span> <span style=\"background-color: #FF0606\">children</span> <span style=\"background-color: #FF0606\">reviews</span> <span style=\"background-color: #FF0606\">you</span> <span style=\"background-color: #FF0606\">must</span> <span style=\"background-color: #FF0606\">be</span> <span style=\"background-color: #FF0606\">hcpc</span> <span style=\"background-color: #FF0606\">registered</span> <span style=\"background-color: #FF0606\">eligible</span> <span style=\"background-color: #FF0606\">to</span> <span style=\"background-color: #FF0606\">work</span> <span style=\"background-color: #FF0606\">in</span> <span style=\"background-color: #FF0606\">the</span> <span style=\"background-color: #FF0606\">uk</span> <span style=\"background-color: #FF0606\">car</span> <span style=\"background-color: #FF0606\">driver</span> <span style=\"background-color: #FF0606\">salary</span> <span style=\"background-color: #FF0606\">range</span> <span style=\"background-color: #FF0909\">is</span> <span style=\"background-color: #FF0808\">****</span> <span style=\"background-color: #FF0909\">ph</span> <span style=\"background-color: #FF0606\">****</span> <span style=\"background-color: #FF0808\">social</span> <span style=\"background-color: #FF0606\">work</span> <span style=\"background-color: #FF0606\">is</span> <span style=\"background-color: #FF0606\">a</span> <span style=\"background-color: #FF0606\">specialist</span> <span style=\"background-color: #FF0606\">recruitment</span> <span style=\"background-color: #FF0606\">agency</span> <span style=\"background-color: #FF0606\">for</span> <span style=\"background-color: #FF0606\">qualified</span> <span style=\"background-color: #FF0606\">social</span> <span style=\"background-color: #FF0606\">workers</span> <span style=\"background-color: #FF0606\">and</span> <span style=\"background-color: #FF0606\">care</span> <span style=\"background-color: #FF0606\">professionals</span> <span style=\"background-color: #FF0606\">.</span> <span style=\"background-color: #FF0606\">we</span> <span style=\"background-color: #FF0606\">offer</span> <span style=\"background-color: #FF0606\">.</span> <span style=\"background-color: #FF0606\">bonuses</span> <span style=\"background-color: #FF0606\">for</span> <span style=\"background-color: #FF0606\">your</span> <span style=\"background-color: #FF0606\">loyalty</span> <span style=\"background-color: #FF0606\">and</span> <span style=\"background-color: #FF0606\">referrals</span> <span style=\"background-color: #FF0606\">training</span> <span style=\"background-color: #FF0606\">opportunities</span> <span style=\"background-color: #FF0606\">and</span> <span style=\"background-color: #FF0606\">professional</span> <span style=\"background-color: #FF0606\">development</span> <span style=\"background-color: #FF0606\">full</span> <span style=\"background-color: #FF0606\">support</span> <span style=\"background-color: #FF0606\">by</span> <span style=\"background-color: #FF0606\">an</span> <span style=\"background-color: #FF0606\">expert</span> <span style=\"background-color: #FF0606\">social</span> <span style=\"background-color: #FF0606\">work</span> <span style=\"background-color: #FF0606\">consultant</span> <span style=\"background-color: #FF0808\">team</span> <span style=\"background-color: #FF0606\">****</span> <span style=\"background-color: #FF0606\">social</span> <span style=\"background-color: #FF0606\">work</span> <span style=\"background-color: #FF0606\">employee</span> <span style=\"background-color: #FF0606\">benefits</span> <span style=\"background-color: #FF0606\">programme</span> <span style=\"background-color: #FF0606\">for</span> <span style=\"background-color: #FF0606\">more</span> <span style=\"background-color: #FF0606\">information</span> <span style=\"background-color: #FF0606\">and</span> <span style=\"background-color: #FF0606\">to</span> <span style=\"background-color: #FF0606\">find</span> <span style=\"background-color: #FF0606\">other</span> <span style=\"background-color: #FF0606\">vacancies</span> <span style=\"background-color: #FF0606\">in</span> <span style=\"background-color: #FF0606\">your</span> <span style=\"background-color: #FF0606\">area</span> <span style=\"background-color: #FF0606\">contact</span> <span style=\"background-color: #FF0606\">simba</span> <span style=\"background-color: #FF0606\">garande</span> <span style=\"background-color: #FF0808\">on</span> <span style=\"background-color: #FF0808\">****</span> <span style=\"background-color: #FF0909\">****</span> <span style=\"background-color: #FF0808\">****</span> <span style=\"background-color: #FF0808\">who</span> <span style=\"background-color: #FF0606\">cares</span> <span style=\"background-color: #FF0606\">?</span> <span style=\"background-color: #FF0606\">we</span> <span style=\"background-color: #FF0606\">do</span> <span style=\"background-color: #FFF6F6\">.</span></p>"
            ]
          },
          "metadata": {}
        }
      ],
      "source": [
        "i = np.random.randint(len(data))\n",
        "print(\"Index:\", i)\n",
        "print(\"Salary (gbp):\", np.expm1(model_1.predict(make_batch(data.iloc[i: i+1]))[0, 0]))\n",
        "\n",
        "tokens_and_weights = explain(model_1, data.loc[i], \"Title\")\n",
        "draw_html([(tok, weight * 5) for tok, weight in tokens_and_weights], font_style='font-size:20px;');\n",
        "\n",
        "tokens_and_weights = explain(model_1, data.loc[i], \"FullDescription\")\n",
        "draw_html([(tok, weight * 10) for tok, weight in tokens_and_weights]);"
      ]
    },
    {
      "cell_type": "markdown",
      "metadata": {
        "id": "q5dZeqyp2taK"
      },
      "source": [
        "__Terrible start-up idea #1962:__ make a tool that automaticaly rephrases your job description (or CV) to meet salary expectations :)"
      ]
    },
    {
      "cell_type": "markdown",
      "metadata": {
        "id": "lqS4jKVi2taK"
      },
      "source": [
        "## Final task: improve over it\n",
        "\n",
        "Your main task is to use some of the tricks you've learned on the network and analyze if you can improve __validation MAE__. Try __at least 3 options__ from the list below for a full grade. Write a short report about what you have tried. More ideas = more bonus points.\n",
        "\n",
        "__Please be serious:__ \" plot learning curves in MAE/epoch, compare models based on optimal performance, test one change at a time. You know this stuff.\n",
        "\n",
        "#### A) CNN architecture\n",
        "\n",
        "All the tricks you know about dense and convolutional neural networks apply here as well.\n",
        "* Dropout.\n",
        "* Batch Norm.\n",
        "* Parallel convolution layers. The idea is that you apply several nn.Conv1d to the same embeddings and concatenate output channels.\n",
        "* More layers, more neurons\n",
        "\n",
        "\n",
        "#### B) Play with pooling\n",
        "\n",
        "There's more than one way to perform pooling:\n",
        "* Max over time - our `L.GlobalMaxPool1D`\n",
        "* Average over time (excluding PAD)\n",
        "* Softmax-pooling:\n",
        "$$ out_{i, t} = \\sum_t {h_{i,t} \\cdot {{e ^ {h_{i, t}}} \\over \\sum_\\tau e ^ {h_{j, \\tau}} } }$$\n",
        "\n",
        "* Attentive pooling\n",
        "$$ out_{i, t} = \\sum_t {h_{i,t} \\cdot Attn(h_t)}$$\n",
        "\n",
        ", where $$ Attn(h_t) = {{e ^ {NN_{attn}(h_t)}} \\over \\sum_\\tau e ^ {NN_{attn}(h_\\tau)}}  $$\n",
        "and $NN_{attn}$ is a dense layer.\n",
        "\n",
        "The optimal score is usually achieved by concatenating several different poolings, including several attentive pooling with different $NN_{attn}$ (aka multi-headed attention).\n",
        "\n",
        "The catch is that keras layers do not inlude those toys. You will have to [write your own keras layer](https://keras.io/layers/writing-your-own-keras-layers/).\n",
        "\n",
        "#### C) Fun with words\n",
        "\n",
        "It's not always a good idea to train embeddings from scratch. Here's a few tricks:\n",
        "\n",
        "* Use a pre-trained embeddings from `gensim.downloader.load`. See last lecture.\n",
        "* Start with pre-trained embeddings, then fine-tune them with gradient descent. You may or may not want to use __`.get_keras_embedding()`__ method for word2vec\n",
        "* Use the same embedding matrix in title and desc vectorizer\n",
        "\n",
        "\n",
        "#### D) Going recurrent\n",
        "\n",
        "We've already learned that recurrent networks can do cool stuff in sequence modelling. Turns out, they're not useless for classification as well. With some tricks of course..\n",
        "\n",
        "* Like convolutional layers, LSTM should be pooled into a fixed-size vector with some of the poolings.\n",
        "* Since you know all the text in advance, use bidirectional RNN\n",
        "  * Run one LSTM from left to right\n",
        "  * Run another in parallel from right to left\n",
        "  * Concatenate their output sequences along unit axis (dim=-1)\n",
        "\n",
        "* It might be good idea to mix convolutions and recurrent layers differently for title and description\n",
        "\n",
        "\n",
        "#### E) Optimizing seriously\n",
        "\n",
        "* You don't necessarily need 100 epochs. Use early stopping. If you've never done this before, take a look at [early stopping callback](https://keras.io/api/callbacks/early_stopping/).\n",
        "  * In short, train until you notice that validation\n",
        "  * Maintain the best-on-validation snapshot via `model.save(file_name)`\n",
        "  * Plotting learning curves is usually a good idea\n",
        "  \n",
        "Good luck!"
      ]
    }
  ],
  "metadata": {
    "kernelspec": {
      "display_name": "Python 3",
      "name": "python3"
    },
    "language_info": {
      "codemirror_mode": {
        "name": "ipython",
        "version": 3
      },
      "file_extension": ".py",
      "mimetype": "text/x-python",
      "name": "python",
      "nbconvert_exporter": "python",
      "pygments_lexer": "ipython3",
      "version": "3.11.4"
    },
    "colab": {
      "provenance": [],
      "gpuType": "T4"
    },
    "accelerator": "GPU"
  },
  "nbformat": 4,
  "nbformat_minor": 0
}