{
 "cells": [
  {
   "cell_type": "code",
   "execution_count": 1,
   "metadata": {},
   "outputs": [
    {
     "name": "stderr",
     "output_type": "stream",
     "text": [
      "[nltk_data] Downloading package punkt to C:\\Users\\gayan.DESKTOP-\n",
      "[nltk_data]     3MLAI51\\AppData\\Roaming\\nltk_data...\n",
      "[nltk_data]   Package punkt is already up-to-date!\n"
     ]
    }
   ],
   "source": [
    "import re\n",
    "import collections\n",
    "import nltk\n",
    "nltk.download('punkt')\n",
    "import sys\n",
    "import numpy as np\n",
    "import tensorflow as tf"
   ]
  },
  {
   "cell_type": "code",
   "execution_count": 2,
   "metadata": {},
   "outputs": [],
   "source": [
    "text_file = \"corpus_100k.txt\""
   ]
  },
  {
   "cell_type": "code",
   "execution_count": 3,
   "metadata": {},
   "outputs": [],
   "source": [
    "with open(text_file, 'r', encoding = 'utf-8') as f:\n",
    "    text = f.read()"
   ]
  },
  {
   "cell_type": "code",
   "execution_count": 4,
   "metadata": {},
   "outputs": [],
   "source": [
    "with open('corpus_100k_wr.txt', 'w') as f:\n",
    "    f.write(text)"
   ]
  },
  {
   "cell_type": "code",
   "execution_count": 5,
   "metadata": {},
   "outputs": [
    {
     "data": {
      "text/plain": [
       "'Հիմա ես կարող է մի բառ մի քիչ անզգույշ արտահայտեմ , եւ երեք ամիս ՀՀ ներքաղաքական կյանքն այդպես էլ չխ'"
      ]
     },
     "execution_count": 5,
     "metadata": {},
     "output_type": "execute_result"
    }
   ],
   "source": [
    "text[:100]"
   ]
  },
  {
   "cell_type": "code",
   "execution_count": 6,
   "metadata": {},
   "outputs": [],
   "source": [
    "def replace_punctuation(text):\n",
    "\n",
    "  punctuation = re.compile(r\"[^\\w\\s]\")\n",
    "  text = punctuation.sub(\" \", text)\n",
    "\n",
    "  text = text.replace(\"\\n\", \" \")\n",
    "\n",
    "  pattern = re.compile(r\"\\s+\")\n",
    "  text = pattern.sub(\" \", text)\n",
    "\n",
    "  return text"
   ]
  },
  {
   "cell_type": "code",
   "execution_count": 7,
   "metadata": {},
   "outputs": [
    {
     "data": {
      "text/plain": [
       "'Հիմա ես կարող է մի բառ մի քիչ անզգույշ արտահայտեմ եւ երեք ամիս ՀՀ ներքաղաքական կյանքն այդպես էլ չխաղ'"
      ]
     },
     "execution_count": 7,
     "metadata": {},
     "output_type": "execute_result"
    }
   ],
   "source": [
    "text = replace_punctuation(text)\n",
    "text[:100]"
   ]
  },
  {
   "cell_type": "code",
   "execution_count": 8,
   "metadata": {},
   "outputs": [],
   "source": [
    "def build_vocabulary(text, vocabulary_size):\n",
    "\n",
    "  text = text.lower()\n",
    "  tokens = nltk.word_tokenize(text)\n",
    "\n",
    "  counter = collections.Counter(tokens)\n",
    "\n",
    "  top_n_words = []\n",
    "  for word, count in counter.most_common(vocabulary_size):\n",
    "    word = word.strip()\n",
    "    top_n_words.append(word)\n",
    "\n",
    "  return top_n_words"
   ]
  },
  {
   "cell_type": "code",
   "execution_count": 9,
   "metadata": {},
   "outputs": [],
   "source": [
    "vocabulary = build_vocabulary(text, 2500)"
   ]
  },
  {
   "cell_type": "code",
   "execution_count": 10,
   "metadata": {},
   "outputs": [],
   "source": [
    "with open('vocab.txt', 'w') as f:\n",
    "    f.write(str(vocabulary))"
   ]
  },
  {
   "cell_type": "code",
   "execution_count": 11,
   "metadata": {},
   "outputs": [],
   "source": [
    "def create_training_dataset(word_sequence, window_size):\n",
    "\n",
    "  skip_grams = []\n",
    "  for i in range(1, len(word_sequence) - 1):\n",
    "    input = word_sequence[i]\n",
    "    context = []\n",
    "    for j in range(-window_size, window_size + 1):\n",
    "      if j != 0 and 0 <= i + j < len(word_sequence):\n",
    "        context.append(word_sequence[i + j])\n",
    "\n",
    "    for w in context:\n",
    "      skip_grams.append([input, w])\n",
    "\n",
    "  return skip_grams"
   ]
  },
  {
   "cell_type": "code",
   "execution_count": 12,
   "metadata": {},
   "outputs": [
    {
     "data": {
      "text/plain": [
       "[['որ', 'է'],\n",
       " ['որ', 'են'],\n",
       " ['որ', 'և'],\n",
       " ['են', 'է'],\n",
       " ['են', 'որ'],\n",
       " ['են', 'և'],\n",
       " ['են', 'եւ'],\n",
       " ['և', 'որ'],\n",
       " ['և', 'են'],\n",
       " ['և', 'եւ'],\n",
       " ['և', 'ի'],\n",
       " ['եւ', 'են'],\n",
       " ['եւ', 'և'],\n",
       " ['եւ', 'ի'],\n",
       " ['եւ', 'հետ'],\n",
       " ['ի', 'և'],\n",
       " ['ի', 'եւ'],\n",
       " ['ի', 'հետ'],\n",
       " ['ի', 'համար'],\n",
       " ['հետ', 'եւ'],\n",
       " ['հետ', 'ի'],\n",
       " ['հետ', 'համար'],\n",
       " ['հետ', 'այս'],\n",
       " ['համար', 'ի'],\n",
       " ['համար', 'հետ'],\n",
       " ['համար', 'այս'],\n",
       " ['համար', 'մասին'],\n",
       " ['այս', 'հետ'],\n",
       " ['այս', 'համար'],\n",
       " ['այս', 'մասին'],\n",
       " ['այս', 'ու'],\n",
       " ['մասին', 'համար'],\n",
       " ['մասին', 'այս'],\n",
       " ['մասին', 'ու'],\n",
       " ['մասին', 'այդ'],\n",
       " ['ու', 'այս'],\n",
       " ['ու', 'մասին'],\n",
       " ['ու', 'այդ'],\n",
       " ['ու', 'ին'],\n",
       " ['այդ', 'մասին'],\n",
       " ['այդ', 'ու'],\n",
       " ['այդ', 'ին'],\n",
       " ['այդ', 'էր'],\n",
       " ['ին', 'ու'],\n",
       " ['ին', 'այդ'],\n",
       " ['ին', 'էր'],\n",
       " ['ին', 'հհ'],\n",
       " ['էր', 'այդ'],\n",
       " ['էր', 'ին'],\n",
       " ['էր', 'հհ'],\n",
       " ['էր', 'իր'],\n",
       " ['հհ', 'ին'],\n",
       " ['հհ', 'էր'],\n",
       " ['հհ', 'իր'],\n",
       " ['հհ', 'այն'],\n",
       " ['իր', 'էր'],\n",
       " ['իր', 'հհ'],\n",
       " ['իր', 'այն'],\n",
       " ['իր', 'չի'],\n",
       " ['այն', 'հհ'],\n",
       " ['այն', 'իր'],\n",
       " ['այն', 'չի'],\n",
       " ['այն', 'թե'],\n",
       " ['չի', 'իր'],\n",
       " ['չի', 'այն'],\n",
       " ['չի', 'թե'],\n",
       " ['չի', 'մի'],\n",
       " ['թե', 'այն'],\n",
       " ['թե', 'չի'],\n",
       " ['թե', 'մի'],\n",
       " ['թե', 'նա'],\n",
       " ['մի', 'չի'],\n",
       " ['մի', 'թե'],\n",
       " ['մի', 'նա'],\n",
       " ['մի', 'եմ'],\n",
       " ['նա', 'թե'],\n",
       " ['նա', 'մի'],\n",
       " ['նա', 'եմ'],\n",
       " ['նա', 'ենք'],\n",
       " ['եմ', 'մի'],\n",
       " ['եմ', 'նա'],\n",
       " ['եմ', 'ենք'],\n",
       " ['եմ', 'պետք'],\n",
       " ['ենք', 'նա'],\n",
       " ['ենք', 'եմ'],\n",
       " ['ենք', 'պետք'],\n",
       " ['ենք', 'ոչ'],\n",
       " ['պետք', 'եմ'],\n",
       " ['պետք', 'ենք'],\n",
       " ['պետք', 'ոչ'],\n",
       " ['պետք', 'մեր'],\n",
       " ['ոչ', 'ենք'],\n",
       " ['ոչ', 'պետք'],\n",
       " ['ոչ', 'մեր'],\n",
       " ['ոչ', 'էլ'],\n",
       " ['մեր', 'պետք'],\n",
       " ['մեր', 'ոչ'],\n",
       " ['մեր', 'էլ'],\n",
       " ['մեր', 'կարող'],\n",
       " ['էլ', 'ոչ']]"
      ]
     },
     "execution_count": 12,
     "metadata": {},
     "output_type": "execute_result"
    }
   ],
   "source": [
    "window_size = 2\n",
    "training_dataset = create_training_dataset(vocabulary, window_size)\n",
    "training_dataset[:100]"
   ]
  },
  {
   "cell_type": "code",
   "execution_count": 13,
   "metadata": {},
   "outputs": [],
   "source": [
    "def random_batch(data, size, vocabulary):\n",
    "\n",
    "  if size > len(data):\n",
    "    raise ValueError(\"The size of the batch is greater than the size of the data.\")\n",
    "\n",
    "  random_index = np.random.choice(range(len(data)), size, replace=False)\n",
    "\n",
    "  random_inputs = []\n",
    "  random_labels = []\n",
    "  for i in random_index:\n",
    "    # one-hot encoding of words\n",
    "    random_inputs.append(np.eye(len(vocabulary))[vocabulary.index(data[i][0])])  # input\n",
    "    random_labels.append(data[i][1])  # context word\n",
    "\n",
    "  return random_inputs, random_labels"
   ]
  },
  {
   "cell_type": "code",
   "execution_count": 14,
   "metadata": {},
   "outputs": [],
   "source": [
    "random_inputs, random_labels = random_batch(training_dataset,100, vocabulary)"
   ]
  },
  {
   "cell_type": "code",
   "execution_count": null,
   "metadata": {},
   "outputs": [],
   "source": []
  }
 ],
 "metadata": {
  "kernelspec": {
   "display_name": "10web_task",
   "language": "python",
   "name": "python3"
  },
  "language_info": {
   "codemirror_mode": {
    "name": "ipython",
    "version": 3
   },
   "file_extension": ".py",
   "mimetype": "text/x-python",
   "name": "python",
   "nbconvert_exporter": "python",
   "pygments_lexer": "ipython3",
   "version": "3.11.4"
  },
  "orig_nbformat": 4
 },
 "nbformat": 4,
 "nbformat_minor": 2
}
